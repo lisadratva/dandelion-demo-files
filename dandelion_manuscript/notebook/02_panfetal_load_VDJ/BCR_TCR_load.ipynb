{
 "cells": [
  {
   "cell_type": "code",
   "execution_count": 1,
   "id": "superb-mobile",
   "metadata": {},
   "outputs": [
    {
     "name": "stdout",
     "output_type": "stream",
     "text": [
      "scanpy==1.9.1 anndata==0.8.0 umap==0.4.6 numpy==1.19.4 scipy==1.5.3 pandas==1.4.4 scikit-learn==1.1.2 statsmodels==0.13.2 python-igraph==0.8.3 louvain==0.7.0 leidenalg==0.8.3\n"
     ]
    }
   ],
   "source": [
    "import os\n",
    "import scanpy as sc\n",
    "import pandas as pd\n",
    "import numpy as np\n",
    "from tqdm import tqdm\n",
    "os.chdir('/lustre/scratch117/cellgen/team205/cs42/VDJ_collab_manuscript/')\n",
    "sc.logging.print_header()"
   ]
  },
  {
   "cell_type": "code",
   "execution_count": 2,
   "id": "genetic-shift",
   "metadata": {},
   "outputs": [
    {
     "name": "stdout",
     "output_type": "stream",
     "text": [
      "dandelion==0.3.1.dev21 pandas==1.4.4 numpy==1.19.4 matplotlib==3.5.2 networkx==2.8.8 scipy==1.5.3\n"
     ]
    }
   ],
   "source": [
    "import dandelion as ddl\n",
    "ddl.logging.print_header()"
   ]
  },
  {
   "cell_type": "code",
   "execution_count": 3,
   "id": "placed-visiting",
   "metadata": {},
   "outputs": [
    {
     "data": {
      "text/plain": [
       "AnnData object with n_obs × n_vars = 241950 × 33538\n",
       "    obs: 'n_counts', 'n_genes', 'file', 'mito', 'doublet_scores', 'predicted_doublets', 'name', 'uniform_label', 'uniform_label_expanded_merged', 'uniform_label_lvl0', 'organ', 'Sample.lanes', 'Sort_id', 'age', 'method', 'donor', 'sex', 'Processing_method', 'AnnatomicalPart', 'Sample', 'bbk', 'scvi_clusters', 'anno_lvl_2_LYMPHOID', 'anno_lvl_2_MYELOID', 'anno_lvl_2_MEM_PROGENITORS', 'leiden_150'\n",
       "    var: 'GeneID', 'GeneName', 'highly_variable', 'means', 'dispersions', 'dispersions_norm'\n",
       "    uns: 'anno_lvl_2_LYMPHOID_colors', 'dendrogram_scvi_clusters', 'donor_colors', 'isin_HSC_IMMUNE_colors', 'isin_LYMPHOID_colors', 'isin_MEM_PROGENITORS_colors', 'isin_MYELOID_LYMPHOID_colors', 'isin_MYELOID_colors', 'isin_STROMA_colors', 'leiden_150_pred_label_expanded_colors', 'organ_colors', 'scvi', 'scvi_clusters_colors', 'uniform_label_expanded_merged_propagated_colors'\n",
       "    obsm: 'X_scvi', 'X_umap'\n",
       "    obsp: 'scvi_connectivities', 'scvi_distances'"
      ]
     },
     "execution_count": 3,
     "metadata": {},
     "output_type": "execute_result"
    }
   ],
   "source": [
    "# downloaded from https://developmental.cellatlas.io/fetal-immune\n",
    "adata = sc.read_h5ad('/nfs/team205/ed6/data/Fetal_immune/PAN.A01.v01.entire_data_normalised_log.20210429.LYMPHOID.embedding.h5ad')\n",
    "adata"
   ]
  },
  {
   "cell_type": "markdown",
   "id": "collected-beijing",
   "metadata": {},
   "source": [
    "update annotation with anno_lvl_2_final_clean"
   ]
  },
  {
   "cell_type": "code",
   "execution_count": 4,
   "id": "lasting-belly",
   "metadata": {},
   "outputs": [
    {
     "name": "stderr",
     "output_type": "stream",
     "text": [
      "<ipython-input-4-aa4fc4311cad>:2: DtypeWarning: Columns (6) have mixed types. Specify dtype option on import or set low_memory=False.\n"
     ]
    }
   ],
   "source": [
    "# downloaded from https://developmental.cellatlas.io/fetal-immune\n",
    "obs = pd.read_csv('/nfs/team205/ed6/data/Fetal_immune/PAN.A01.v01.entire_data_normalised_log.20210429.full_obs.annotated.clean.csv', index_col = 0) # final annotations and removed maternal contaminant cells"
   ]
  },
  {
   "cell_type": "code",
   "execution_count": 5,
   "id": "mathematical-assembly",
   "metadata": {},
   "outputs": [],
   "source": [
    "adata.obs['anno_lvl_2_final_clean'] = np.nan\n",
    "adata.obs['anno_lvl_2_final_clean'].update(obs['anno_lvl_2_final_clean'])"
   ]
  },
  {
   "cell_type": "code",
   "execution_count": 6,
   "id": "cardiovascular-wallpaper",
   "metadata": {},
   "outputs": [],
   "source": [
    "#vdj_loc = '/lustre/scratch117/cellgen/team205/sharedData/cs42/all-dandelion-paper-map'\n",
    "# new address after updating leftmost J gene\n",
    "vdj_loc = '/lustre/scratch117/cellgen/team205/cs42/VDJ_collab_manuscript/data_remap_11012023/dandelion-remap'"
   ]
  },
  {
   "cell_type": "markdown",
   "id": "broadband-board",
   "metadata": {},
   "source": [
    "## tcr-ab"
   ]
  },
  {
   "cell_type": "code",
   "execution_count": 7,
   "id": "brutal-sydney",
   "metadata": {},
   "outputs": [
    {
     "data": {
      "text/html": [
       "<div>\n",
       "<style scoped>\n",
       "    .dataframe tbody tr th:only-of-type {\n",
       "        vertical-align: middle;\n",
       "    }\n",
       "\n",
       "    .dataframe tbody tr th {\n",
       "        vertical-align: top;\n",
       "    }\n",
       "\n",
       "    .dataframe thead th {\n",
       "        text-align: right;\n",
       "    }\n",
       "</style>\n",
       "<table border=\"1\" class=\"dataframe\">\n",
       "  <thead>\n",
       "    <tr style=\"text-align: right;\">\n",
       "      <th></th>\n",
       "      <th>lane_id</th>\n",
       "      <th>GEX_id</th>\n",
       "    </tr>\n",
       "  </thead>\n",
       "  <tbody>\n",
       "    <tr>\n",
       "      <th>0</th>\n",
       "      <td>FCAImmP7292944</td>\n",
       "      <td>FCAImmP7292031</td>\n",
       "    </tr>\n",
       "    <tr>\n",
       "      <th>1</th>\n",
       "      <td>FCAImmP7292941</td>\n",
       "      <td>FCAImmP7292028</td>\n",
       "    </tr>\n",
       "    <tr>\n",
       "      <th>2</th>\n",
       "      <td>FCAImmP7292942</td>\n",
       "      <td>FCAImmP7292029</td>\n",
       "    </tr>\n",
       "    <tr>\n",
       "      <th>3</th>\n",
       "      <td>FCAImmP7292943</td>\n",
       "      <td>FCAImmP7292030</td>\n",
       "    </tr>\n",
       "    <tr>\n",
       "      <th>4</th>\n",
       "      <td>FCAImmP7292947</td>\n",
       "      <td>FCAImmP7292035</td>\n",
       "    </tr>\n",
       "    <tr>\n",
       "      <th>...</th>\n",
       "      <td>...</td>\n",
       "      <td>...</td>\n",
       "    </tr>\n",
       "    <tr>\n",
       "      <th>60</th>\n",
       "      <td>Human_colon_16S8157851</td>\n",
       "      <td>Human_colon_16S8159186</td>\n",
       "    </tr>\n",
       "    <tr>\n",
       "      <th>61</th>\n",
       "      <td>Human_colon_16S8157852</td>\n",
       "      <td>Human_colon_16S8159187</td>\n",
       "    </tr>\n",
       "    <tr>\n",
       "      <th>62</th>\n",
       "      <td>Human_colon_16S8157853</td>\n",
       "      <td>Human_colon_16S8159188</td>\n",
       "    </tr>\n",
       "    <tr>\n",
       "      <th>63</th>\n",
       "      <td>Human_colon_16S8157854</td>\n",
       "      <td>Human_colon_16S8159189</td>\n",
       "    </tr>\n",
       "    <tr>\n",
       "      <th>64</th>\n",
       "      <td>Human_colon_16S8157855</td>\n",
       "      <td>Human_colon_16S8159190</td>\n",
       "    </tr>\n",
       "  </tbody>\n",
       "</table>\n",
       "<p>65 rows × 2 columns</p>\n",
       "</div>"
      ],
      "text/plain": [
       "                   lane_id                  GEX_id\n",
       "0           FCAImmP7292944          FCAImmP7292031\n",
       "1           FCAImmP7292941          FCAImmP7292028\n",
       "2           FCAImmP7292942          FCAImmP7292029\n",
       "3           FCAImmP7292943          FCAImmP7292030\n",
       "4           FCAImmP7292947          FCAImmP7292035\n",
       "..                     ...                     ...\n",
       "60  Human_colon_16S8157851  Human_colon_16S8159186\n",
       "61  Human_colon_16S8157852  Human_colon_16S8159187\n",
       "62  Human_colon_16S8157853  Human_colon_16S8159188\n",
       "63  Human_colon_16S8157854  Human_colon_16S8159189\n",
       "64  Human_colon_16S8157855  Human_colon_16S8159190\n",
       "\n",
       "[65 rows x 2 columns]"
      ]
     },
     "execution_count": 7,
     "metadata": {},
     "output_type": "execute_result"
    }
   ],
   "source": [
    "# read in metadata\n",
    "trab_meta = pd.read_csv('metadata/abTCR_metadata_cleaned_24032022.csv')\n",
    "trab_meta"
   ]
  },
  {
   "cell_type": "code",
   "execution_count": 8,
   "id": "quick-electricity",
   "metadata": {},
   "outputs": [
    {
     "name": "stderr",
     "output_type": "stream",
     "text": [
      "65it [01:50,  1.70s/it]\n"
     ]
    },
    {
     "data": {
      "text/plain": [
       "61"
      ]
     },
     "execution_count": 8,
     "metadata": {},
     "output_type": "execute_result"
    }
   ],
   "source": [
    "tcrab = {}\n",
    "for x, y in tqdm(zip(trab_meta['lane_id'], trab_meta['GEX_id'])):\n",
    "    file = vdj_loc + '/'+x+'/dandelion/tmp/all_contig_igblast_db-all.tsv'\n",
    "    try:\n",
    "        tmp = pd.read_csv(file, sep ='\\t')\n",
    "        tmp['cell_id'] = [y + '-' + z.split('-1')[0] for z in tmp['cell_id']]\n",
    "        tmp = tmp[tmp['cell_id'].isin(adata.obs_names)].copy()\n",
    "        if 'duplicate_count' not in tmp:\n",
    "            tmp['duplicate_count'] = tmp['umi_count']\n",
    "            tmp.drop('umi_count', axis = 1, inplace = True)\n",
    "        tcrab[x] = ddl.Dandelion(tmp)\n",
    "    except:\n",
    "        # print(x)\n",
    "        pass\n",
    "len(tcrab)"
   ]
  },
  {
   "cell_type": "code",
   "execution_count": 9,
   "id": "small-calgary",
   "metadata": {},
   "outputs": [
    {
     "data": {
      "text/plain": [
       "Dandelion class object with n_obs = 65194 and n_contigs = 169396\n",
       "    data: 'sequence_id', 'sequence', 'rev_comp', 'productive', 'v_call', 'd_call', 'j_call', 'sequence_alignment', 'germline_alignment', 'junction', 'junction_aa', 'v_cigar', 'd_cigar', 'j_cigar', 'stop_codon', 'vj_in_frame', 'locus', 'c_call', 'junction_length', 'np1_length', 'np2_length', 'v_sequence_start', 'v_sequence_end', 'v_germline_start', 'v_germline_end', 'd_sequence_start', 'd_sequence_end', 'd_germline_start', 'd_germline_end', 'j_sequence_start', 'j_sequence_end', 'j_germline_start', 'j_germline_end', 'v_score', 'v_identity', 'v_support', 'd_score', 'd_identity', 'd_support', 'j_score', 'j_identity', 'j_support', 'fwr1', 'fwr2', 'fwr3', 'fwr4', 'cdr1', 'cdr2', 'cdr3', 'cell_id', 'consensus_count', 'duplicate_count', 'v_call_10x', 'd_call_10x', 'j_call_10x', 'junction_10x', 'junction_10x_aa', 'j_support_igblastn', 'j_score_igblastn', 'j_call_igblastn', 'j_call_blastn', 'j_identity_blastn', 'j_alignment_length_blastn', 'j_number_of_mismatches_blastn', 'j_number_of_gap_openings_blastn', 'j_sequence_start_blastn', 'j_sequence_end_blastn', 'j_germline_start_blastn', 'j_germline_end_blastn', 'j_support_blastn', 'j_score_blastn', 'j_sequence_alignment_blastn', 'j_germline_alignment_blastn', 'cell_id_blastn', 'j_source', 'd_support_igblastn', 'd_score_igblastn', 'd_call_igblastn', 'd_call_blastn', 'd_identity_blastn', 'd_alignment_length_blastn', 'd_number_of_mismatches_blastn', 'd_number_of_gap_openings_blastn', 'd_sequence_start_blastn', 'd_sequence_end_blastn', 'd_germline_start_blastn', 'd_germline_end_blastn', 'd_support_blastn', 'd_score_blastn', 'd_sequence_alignment_blastn', 'd_germline_alignment_blastn', 'd_source', 'junction_aa_length', 'fwr1_aa', 'fwr2_aa', 'fwr3_aa', 'fwr4_aa', 'cdr1_aa', 'cdr2_aa', 'cdr3_aa', 'sequence_alignment_aa', 'v_sequence_alignment_aa', 'd_sequence_alignment_aa', 'j_sequence_alignment_aa', 'complete_vdj', 'j_call_multimappers', 'j_call_multiplicity', 'j_call_sequence_start_multimappers', 'j_call_sequence_end_multimappers', 'j_call_support_multimappers', 'rearrangement_status'\n",
       "    metadata: 'locus_VDJ', 'locus_VJ', 'productive_VDJ', 'productive_VJ', 'v_call_VDJ', 'd_call_VDJ', 'j_call_VDJ', 'v_call_VJ', 'j_call_VJ', 'c_call_VDJ', 'c_call_VJ', 'junction_VDJ', 'junction_VJ', 'junction_aa_VDJ', 'junction_aa_VJ', 'v_call_abT_VDJ', 'd_call_abT_VDJ', 'j_call_abT_VDJ', 'v_call_abT_VJ', 'j_call_abT_VJ', 'c_call_abT_VDJ', 'c_call_abT_VJ', 'productive_abT_VDJ', 'productive_abT_VJ', 'v_call_gdT_VDJ', 'd_call_gdT_VDJ', 'j_call_gdT_VDJ', 'v_call_gdT_VJ', 'j_call_gdT_VJ', 'c_call_gdT_VDJ', 'c_call_gdT_VJ', 'productive_gdT_VDJ', 'productive_gdT_VJ', 'duplicate_count_abT_VDJ', 'duplicate_count_abT_VJ', 'duplicate_count_gdT_VDJ', 'duplicate_count_gdT_VJ', 'v_call_VDJ_main', 'v_call_VJ_main', 'd_call_VDJ_main', 'j_call_VDJ_main', 'j_call_VJ_main', 'c_call_VDJ_main', 'c_call_VJ_main', 'v_call_abT_VDJ_main', 'd_call_abT_VDJ_main', 'j_call_abT_VDJ_main', 'v_call_abT_VJ_main', 'j_call_abT_VJ_main', 'v_call_gdT_VDJ_main', 'd_call_gdT_VDJ_main', 'j_call_gdT_VDJ_main', 'v_call_gdT_VJ_main', 'j_call_gdT_VJ_main', 'isotype', 'isotype_status', 'locus_status', 'chain_status', 'rearrangement_status_VDJ', 'rearrangement_status_VJ'"
      ]
     },
     "execution_count": 9,
     "metadata": {},
     "output_type": "execute_result"
    }
   ],
   "source": [
    "# concatenate\n",
    "tcrab = ddl.concat([tcrab[x] for x in tcrab], prefixes = list(tcrab.keys()))\n",
    "tcrab"
   ]
  },
  {
   "cell_type": "code",
   "execution_count": 10,
   "id": "critical-analyst",
   "metadata": {},
   "outputs": [
    {
     "name": "stderr",
     "output_type": "stream",
     "text": [
      "Preparing data: 168592it [01:16, 2193.23it/s]\n",
      "Scanning for poor quality/ambiguous contigs: 100%|██████████| 65177/65177 [09:39<00:00, 112.43it/s]\n"
     ]
    },
    {
     "data": {
      "text/plain": [
       "Dandelion class object with n_obs = 64817 and n_contigs = 168592\n",
       "    data: 'sequence_id', 'sequence', 'rev_comp', 'productive', 'v_call', 'd_call', 'j_call', 'sequence_alignment', 'germline_alignment', 'junction', 'junction_aa', 'v_cigar', 'd_cigar', 'j_cigar', 'stop_codon', 'vj_in_frame', 'locus', 'c_call', 'junction_length', 'np1_length', 'np2_length', 'v_sequence_start', 'v_sequence_end', 'v_germline_start', 'v_germline_end', 'd_sequence_start', 'd_sequence_end', 'd_germline_start', 'd_germline_end', 'j_sequence_start', 'j_sequence_end', 'j_germline_start', 'j_germline_end', 'v_score', 'v_identity', 'v_support', 'd_score', 'd_identity', 'd_support', 'j_score', 'j_identity', 'j_support', 'fwr1', 'fwr2', 'fwr3', 'fwr4', 'cdr1', 'cdr2', 'cdr3', 'cell_id', 'consensus_count', 'duplicate_count', 'v_call_10x', 'd_call_10x', 'j_call_10x', 'junction_10x', 'junction_10x_aa', 'j_support_igblastn', 'j_score_igblastn', 'j_call_igblastn', 'j_call_blastn', 'j_identity_blastn', 'j_alignment_length_blastn', 'j_number_of_mismatches_blastn', 'j_number_of_gap_openings_blastn', 'j_sequence_start_blastn', 'j_sequence_end_blastn', 'j_germline_start_blastn', 'j_germline_end_blastn', 'j_support_blastn', 'j_score_blastn', 'j_sequence_alignment_blastn', 'j_germline_alignment_blastn', 'cell_id_blastn', 'j_source', 'd_support_igblastn', 'd_score_igblastn', 'd_call_igblastn', 'd_call_blastn', 'd_identity_blastn', 'd_alignment_length_blastn', 'd_number_of_mismatches_blastn', 'd_number_of_gap_openings_blastn', 'd_sequence_start_blastn', 'd_sequence_end_blastn', 'd_germline_start_blastn', 'd_germline_end_blastn', 'd_support_blastn', 'd_score_blastn', 'd_sequence_alignment_blastn', 'd_germline_alignment_blastn', 'd_source', 'junction_aa_length', 'fwr1_aa', 'fwr2_aa', 'fwr3_aa', 'fwr4_aa', 'cdr1_aa', 'cdr2_aa', 'cdr3_aa', 'sequence_alignment_aa', 'v_sequence_alignment_aa', 'd_sequence_alignment_aa', 'j_sequence_alignment_aa', 'complete_vdj', 'j_call_multimappers', 'j_call_multiplicity', 'j_call_sequence_start_multimappers', 'j_call_sequence_end_multimappers', 'j_call_support_multimappers', 'rearrangement_status', 'ambiguous'\n",
       "    metadata: 'locus_VDJ', 'locus_VJ', 'productive_VDJ', 'productive_VJ', 'v_call_VDJ', 'd_call_VDJ', 'j_call_VDJ', 'v_call_VJ', 'j_call_VJ', 'c_call_VDJ', 'c_call_VJ', 'junction_VDJ', 'junction_VJ', 'junction_aa_VDJ', 'junction_aa_VJ', 'v_call_abT_VDJ', 'd_call_abT_VDJ', 'j_call_abT_VDJ', 'v_call_abT_VJ', 'j_call_abT_VJ', 'c_call_abT_VDJ', 'c_call_abT_VJ', 'productive_abT_VDJ', 'productive_abT_VJ', 'duplicate_count_abT_VDJ', 'duplicate_count_abT_VJ', 'v_call_VDJ_main', 'v_call_VJ_main', 'd_call_VDJ_main', 'j_call_VDJ_main', 'j_call_VJ_main', 'c_call_VDJ_main', 'c_call_VJ_main', 'v_call_abT_VDJ_main', 'd_call_abT_VDJ_main', 'j_call_abT_VDJ_main', 'v_call_abT_VJ_main', 'j_call_abT_VJ_main', 'isotype', 'isotype_status', 'locus_status', 'chain_status', 'rearrangement_status_VDJ', 'rearrangement_status_VJ'"
      ]
     },
     "execution_count": 10,
     "metadata": {},
     "output_type": "execute_result"
    }
   ],
   "source": [
    "# library_type is set to filter out genes that are not TRA/TRB (in 'locus' column) as this library is abTCR\n",
    "tcrab_checked, trab_adata = ddl.pp.check_contigs(tcrab, adata, productive_only = False, library_type = 'tr-ab')\n",
    "tcrab_checked"
   ]
  },
  {
   "cell_type": "markdown",
   "id": "center-madison",
   "metadata": {},
   "source": [
    "## tcr-gd"
   ]
  },
  {
   "cell_type": "code",
   "execution_count": 11,
   "id": "designed-ethernet",
   "metadata": {
    "tags": []
   },
   "outputs": [
    {
     "data": {
      "text/html": [
       "<div>\n",
       "<style scoped>\n",
       "    .dataframe tbody tr th:only-of-type {\n",
       "        vertical-align: middle;\n",
       "    }\n",
       "\n",
       "    .dataframe tbody tr th {\n",
       "        vertical-align: top;\n",
       "    }\n",
       "\n",
       "    .dataframe thead th {\n",
       "        text-align: right;\n",
       "    }\n",
       "</style>\n",
       "<table border=\"1\" class=\"dataframe\">\n",
       "  <thead>\n",
       "    <tr style=\"text-align: right;\">\n",
       "      <th></th>\n",
       "      <th>GDTCR</th>\n",
       "      <th>GDTCR_sample</th>\n",
       "      <th>GEX file</th>\n",
       "    </tr>\n",
       "  </thead>\n",
       "  <tbody>\n",
       "    <tr>\n",
       "      <th>0</th>\n",
       "      <td>WSSS_F_Imm10424040</td>\n",
       "      <td>F41_LI_45P_GDTCR</td>\n",
       "      <td>FCAImmP7555856</td>\n",
       "    </tr>\n",
       "    <tr>\n",
       "      <th>1</th>\n",
       "      <td>WSSS_F_Imm10424041</td>\n",
       "      <td>F41_SK_45P_GDTCR</td>\n",
       "      <td>FCAImmP7555858</td>\n",
       "    </tr>\n",
       "    <tr>\n",
       "      <th>2</th>\n",
       "      <td>WSSS_F_Imm10424042</td>\n",
       "      <td>F41_TH_45P_GDTCR</td>\n",
       "      <td>FCAImmP7555860</td>\n",
       "    </tr>\n",
       "    <tr>\n",
       "      <th>3</th>\n",
       "      <td>WSSS_F_Imm10424043</td>\n",
       "      <td>F41_BM_45P_GDTCR</td>\n",
       "      <td>FCAImmP7555862</td>\n",
       "    </tr>\n",
       "    <tr>\n",
       "      <th>4</th>\n",
       "      <td>WSSS_F_Imm10424044</td>\n",
       "      <td>F45_LI_45P_GDTCR</td>\n",
       "      <td>FCAImmP7579226</td>\n",
       "    </tr>\n",
       "    <tr>\n",
       "      <th>5</th>\n",
       "      <td>WSSS_F_Imm10424045</td>\n",
       "      <td>F45_SP_45P_GDTCR</td>\n",
       "      <td>FCAImmP7579228</td>\n",
       "    </tr>\n",
       "    <tr>\n",
       "      <th>6</th>\n",
       "      <td>WSSS_F_Imm10424046</td>\n",
       "      <td>F45_TH_45P_GDTCR</td>\n",
       "      <td>FCAImmP7579230</td>\n",
       "    </tr>\n",
       "    <tr>\n",
       "      <th>7</th>\n",
       "      <td>WSSS_F_Imm10424047</td>\n",
       "      <td>F45_BM_45P_GDTCR</td>\n",
       "      <td>FCAImmP7579232</td>\n",
       "    </tr>\n",
       "    <tr>\n",
       "      <th>8</th>\n",
       "      <td>WSSS_F_Imm10424048</td>\n",
       "      <td>F29_BM_45P_GDTCR</td>\n",
       "      <td>FCAImmP7292031</td>\n",
       "    </tr>\n",
       "    <tr>\n",
       "      <th>9</th>\n",
       "      <td>WSSS_F_Imm10424049</td>\n",
       "      <td>F29_SP_45P_GDTCR</td>\n",
       "      <td>FCAImmP7292029</td>\n",
       "    </tr>\n",
       "    <tr>\n",
       "      <th>10</th>\n",
       "      <td>WSSS_F_Imm10424050</td>\n",
       "      <td>F29_TH_45P_GDTCR</td>\n",
       "      <td>FCAImmP7292030</td>\n",
       "    </tr>\n",
       "    <tr>\n",
       "      <th>11</th>\n",
       "      <td>WSSS_F_Imm10424051</td>\n",
       "      <td>F51_SK_45P_GDTCR_1</td>\n",
       "      <td>FCAImmP7803034</td>\n",
       "    </tr>\n",
       "    <tr>\n",
       "      <th>12</th>\n",
       "      <td>WSSS_F_Imm10424052</td>\n",
       "      <td>F51_SP_45P_GDTCR_2</td>\n",
       "      <td>FCAImmP7803037</td>\n",
       "    </tr>\n",
       "    <tr>\n",
       "      <th>13</th>\n",
       "      <td>WSSS_F_Imm10424053</td>\n",
       "      <td>F51_BM_45P_GDTCR_1</td>\n",
       "      <td>FCAImmP7803028</td>\n",
       "    </tr>\n",
       "    <tr>\n",
       "      <th>14</th>\n",
       "      <td>WSSS_F_Imm10424054</td>\n",
       "      <td>F61_LI_45P_GDTCR_1</td>\n",
       "      <td>FCAImmP7862084</td>\n",
       "    </tr>\n",
       "    <tr>\n",
       "      <th>15</th>\n",
       "      <td>WSSS_F_Imm10424055</td>\n",
       "      <td>F71_SK_45P_GDTCR_1</td>\n",
       "      <td>FCAImmP7964506</td>\n",
       "    </tr>\n",
       "    <tr>\n",
       "      <th>16</th>\n",
       "      <td>WSSS_F_Imm10424056</td>\n",
       "      <td>F29_LI_45P_GDTCR</td>\n",
       "      <td>FCAImmP7292028</td>\n",
       "    </tr>\n",
       "    <tr>\n",
       "      <th>17</th>\n",
       "      <td>WSSS_F_Imm10424057</td>\n",
       "      <td>F41_KI_45P_GDTCR</td>\n",
       "      <td>FCAImmP7555859</td>\n",
       "    </tr>\n",
       "    <tr>\n",
       "      <th>18</th>\n",
       "      <td>WSSS_F_Imm10424058</td>\n",
       "      <td>F45_SK_45P_GDTCR</td>\n",
       "      <td>FCAImmP7579224</td>\n",
       "    </tr>\n",
       "    <tr>\n",
       "      <th>19</th>\n",
       "      <td>WSSS_F_Imm10424059</td>\n",
       "      <td>F50_BM_45P_GDTCR_2</td>\n",
       "      <td>FCAImmP7803017</td>\n",
       "    </tr>\n",
       "    <tr>\n",
       "      <th>20</th>\n",
       "      <td>WSSS_F_Imm10424060</td>\n",
       "      <td>F50_SP_45P_GDTCR_2</td>\n",
       "      <td>FCAImmP7803021</td>\n",
       "    </tr>\n",
       "    <tr>\n",
       "      <th>21</th>\n",
       "      <td>WSSS_F_Imm10424061</td>\n",
       "      <td>F50_SK_45P_GDTCR_2</td>\n",
       "      <td>FCAImmP7803025</td>\n",
       "    </tr>\n",
       "    <tr>\n",
       "      <th>22</th>\n",
       "      <td>WSSS_F_Imm10424062</td>\n",
       "      <td>F61_YS_45P_GDTCR_1</td>\n",
       "      <td>FCAImmP7862088</td>\n",
       "    </tr>\n",
       "    <tr>\n",
       "      <th>23</th>\n",
       "      <td>WSSS_F_Imm11279975</td>\n",
       "      <td>F41-THY-gdTCR</td>\n",
       "      <td>FCAImmP7555861</td>\n",
       "    </tr>\n",
       "    <tr>\n",
       "      <th>24</th>\n",
       "      <td>WSSS_F_Imm11279976</td>\n",
       "      <td>F45-THY-gdTCR</td>\n",
       "      <td>FCAImmP7579231</td>\n",
       "    </tr>\n",
       "    <tr>\n",
       "      <th>25</th>\n",
       "      <td>WSSS_F_Imm12128717</td>\n",
       "      <td>F72-FSI-0-SC-1</td>\n",
       "      <td>Human_colon_16S8159182</td>\n",
       "    </tr>\n",
       "    <tr>\n",
       "      <th>26</th>\n",
       "      <td>WSSS_F_Imm12128718</td>\n",
       "      <td>F72-FSI-0-SC-2</td>\n",
       "      <td>Human_colon_16S8159183</td>\n",
       "    </tr>\n",
       "    <tr>\n",
       "      <th>27</th>\n",
       "      <td>WSSS_F_Imm12128719</td>\n",
       "      <td>F72-FSI-0-SC-3</td>\n",
       "      <td>Human_colon_16S8159184</td>\n",
       "    </tr>\n",
       "    <tr>\n",
       "      <th>28</th>\n",
       "      <td>WSSS_F_Imm12128720</td>\n",
       "      <td>F72-FLI-0-SC-1</td>\n",
       "      <td>Human_colon_16S8159185</td>\n",
       "    </tr>\n",
       "    <tr>\n",
       "      <th>29</th>\n",
       "      <td>WSSS_F_Imm12128721</td>\n",
       "      <td>F72-MLN-0-SC-1</td>\n",
       "      <td>Human_colon_16S8159186</td>\n",
       "    </tr>\n",
       "    <tr>\n",
       "      <th>30</th>\n",
       "      <td>WSSS_F_Imm12128722</td>\n",
       "      <td>F73 PROX --&gt; 6</td>\n",
       "      <td>Human_colon_16S8159187</td>\n",
       "    </tr>\n",
       "    <tr>\n",
       "      <th>31</th>\n",
       "      <td>WSSS_F_Imm12128723</td>\n",
       "      <td>F73 MID --&gt; 7</td>\n",
       "      <td>Human_colon_16S8159188</td>\n",
       "    </tr>\n",
       "    <tr>\n",
       "      <th>32</th>\n",
       "      <td>WSSS_F_Imm12128724</td>\n",
       "      <td>F73 TER --&gt;8</td>\n",
       "      <td>Human_colon_16S8159189</td>\n",
       "    </tr>\n",
       "    <tr>\n",
       "      <th>33</th>\n",
       "      <td>WSSS_F_Imm12128725</td>\n",
       "      <td>F73 CO --&gt;9</td>\n",
       "      <td>Human_colon_16S8159190</td>\n",
       "    </tr>\n",
       "  </tbody>\n",
       "</table>\n",
       "</div>"
      ],
      "text/plain": [
       "                 GDTCR        GDTCR_sample                GEX file\n",
       "0   WSSS_F_Imm10424040    F41_LI_45P_GDTCR          FCAImmP7555856\n",
       "1   WSSS_F_Imm10424041    F41_SK_45P_GDTCR          FCAImmP7555858\n",
       "2   WSSS_F_Imm10424042    F41_TH_45P_GDTCR          FCAImmP7555860\n",
       "3   WSSS_F_Imm10424043    F41_BM_45P_GDTCR          FCAImmP7555862\n",
       "4   WSSS_F_Imm10424044    F45_LI_45P_GDTCR          FCAImmP7579226\n",
       "5   WSSS_F_Imm10424045    F45_SP_45P_GDTCR          FCAImmP7579228\n",
       "6   WSSS_F_Imm10424046    F45_TH_45P_GDTCR          FCAImmP7579230\n",
       "7   WSSS_F_Imm10424047    F45_BM_45P_GDTCR          FCAImmP7579232\n",
       "8   WSSS_F_Imm10424048    F29_BM_45P_GDTCR          FCAImmP7292031\n",
       "9   WSSS_F_Imm10424049    F29_SP_45P_GDTCR          FCAImmP7292029\n",
       "10  WSSS_F_Imm10424050    F29_TH_45P_GDTCR          FCAImmP7292030\n",
       "11  WSSS_F_Imm10424051  F51_SK_45P_GDTCR_1          FCAImmP7803034\n",
       "12  WSSS_F_Imm10424052  F51_SP_45P_GDTCR_2          FCAImmP7803037\n",
       "13  WSSS_F_Imm10424053  F51_BM_45P_GDTCR_1          FCAImmP7803028\n",
       "14  WSSS_F_Imm10424054  F61_LI_45P_GDTCR_1          FCAImmP7862084\n",
       "15  WSSS_F_Imm10424055  F71_SK_45P_GDTCR_1          FCAImmP7964506\n",
       "16  WSSS_F_Imm10424056    F29_LI_45P_GDTCR          FCAImmP7292028\n",
       "17  WSSS_F_Imm10424057    F41_KI_45P_GDTCR          FCAImmP7555859\n",
       "18  WSSS_F_Imm10424058    F45_SK_45P_GDTCR          FCAImmP7579224\n",
       "19  WSSS_F_Imm10424059  F50_BM_45P_GDTCR_2          FCAImmP7803017\n",
       "20  WSSS_F_Imm10424060  F50_SP_45P_GDTCR_2          FCAImmP7803021\n",
       "21  WSSS_F_Imm10424061  F50_SK_45P_GDTCR_2          FCAImmP7803025\n",
       "22  WSSS_F_Imm10424062  F61_YS_45P_GDTCR_1          FCAImmP7862088\n",
       "23  WSSS_F_Imm11279975       F41-THY-gdTCR          FCAImmP7555861\n",
       "24  WSSS_F_Imm11279976       F45-THY-gdTCR          FCAImmP7579231\n",
       "25  WSSS_F_Imm12128717      F72-FSI-0-SC-1  Human_colon_16S8159182\n",
       "26  WSSS_F_Imm12128718      F72-FSI-0-SC-2  Human_colon_16S8159183\n",
       "27  WSSS_F_Imm12128719      F72-FSI-0-SC-3  Human_colon_16S8159184\n",
       "28  WSSS_F_Imm12128720      F72-FLI-0-SC-1  Human_colon_16S8159185\n",
       "29  WSSS_F_Imm12128721      F72-MLN-0-SC-1  Human_colon_16S8159186\n",
       "30  WSSS_F_Imm12128722      F73 PROX --> 6  Human_colon_16S8159187\n",
       "31  WSSS_F_Imm12128723       F73 MID --> 7  Human_colon_16S8159188\n",
       "32  WSSS_F_Imm12128724        F73 TER -->8  Human_colon_16S8159189\n",
       "33  WSSS_F_Imm12128725         F73 CO -->9  Human_colon_16S8159190"
      ]
     },
     "execution_count": 11,
     "metadata": {},
     "output_type": "execute_result"
    }
   ],
   "source": [
    "# read in tcr files\n",
    "trgd_meta = pd.read_csv('metadata/gdTCR_metadata_cleaned_24032022.csv', index_col = 0)\n",
    "trgd_meta"
   ]
  },
  {
   "cell_type": "code",
   "execution_count": 12,
   "id": "functioning-parks",
   "metadata": {},
   "outputs": [
    {
     "name": "stderr",
     "output_type": "stream",
     "text": [
      "34it [00:31,  1.08it/s]\n"
     ]
    },
    {
     "data": {
      "text/plain": [
       "33"
      ]
     },
     "execution_count": 12,
     "metadata": {},
     "output_type": "execute_result"
    }
   ],
   "source": [
    "tcrgd = {}\n",
    "for x, y in tqdm(zip(trgd_meta['GDTCR'], trgd_meta['GEX file'])):\n",
    "    file = vdj_loc + '/gdT/original/'+x+'/dandelion/tmp/all_contig_igblast_db-all.tsv'\n",
    "    try:\n",
    "        tmp = pd.read_csv(file, sep ='\\t')\n",
    "        tmp['cell_id'] = [y + '-' + z.split('-1')[0] for z in tmp['cell_id']]\n",
    "        tmp = tmp[tmp['cell_id'].isin(adata.obs_names)].copy()\n",
    "        if 'duplicate_count' not in tmp:\n",
    "            tmp['duplicate_count'] = tmp['umi_count']\n",
    "            tmp.drop('umi_count', axis = 1, inplace = True)\n",
    "        tcrgd[x] = ddl.Dandelion(tmp)\n",
    "    except:\n",
    "        # print(x)\n",
    "        pass\n",
    "len(tcrgd)"
   ]
  },
  {
   "cell_type": "code",
   "execution_count": 13,
   "id": "critical-coupon",
   "metadata": {},
   "outputs": [
    {
     "data": {
      "text/plain": [
       "Dandelion class object with n_obs = 21131 and n_contigs = 38945\n",
       "    data: 'sequence_id', 'sequence', 'rev_comp', 'productive', 'v_call', 'd_call', 'j_call', 'sequence_alignment', 'germline_alignment', 'junction', 'junction_aa', 'v_cigar', 'd_cigar', 'j_cigar', 'stop_codon', 'vj_in_frame', 'locus', 'c_call', 'junction_length', 'np1_length', 'np2_length', 'v_sequence_start', 'v_sequence_end', 'v_germline_start', 'v_germline_end', 'd_sequence_start', 'd_sequence_end', 'd_germline_start', 'd_germline_end', 'j_sequence_start', 'j_sequence_end', 'j_germline_start', 'j_germline_end', 'v_score', 'v_identity', 'v_support', 'd_score', 'd_identity', 'd_support', 'j_score', 'j_identity', 'j_support', 'fwr1', 'fwr2', 'fwr3', 'fwr4', 'cdr1', 'cdr2', 'cdr3', 'cell_id', 'consensus_count', 'duplicate_count', 'v_call_10x', 'd_call_10x', 'j_call_10x', 'junction_10x', 'junction_10x_aa', 'j_support_igblastn', 'j_score_igblastn', 'j_call_igblastn', 'j_call_blastn', 'j_identity_blastn', 'j_alignment_length_blastn', 'j_number_of_mismatches_blastn', 'j_number_of_gap_openings_blastn', 'j_sequence_start_blastn', 'j_sequence_end_blastn', 'j_germline_start_blastn', 'j_germline_end_blastn', 'j_support_blastn', 'j_score_blastn', 'j_sequence_alignment_blastn', 'j_germline_alignment_blastn', 'cell_id_blastn', 'j_source', 'd_support_igblastn', 'd_score_igblastn', 'd_call_igblastn', 'd_call_blastn', 'd_identity_blastn', 'd_alignment_length_blastn', 'd_number_of_mismatches_blastn', 'd_number_of_gap_openings_blastn', 'd_sequence_start_blastn', 'd_sequence_end_blastn', 'd_germline_start_blastn', 'd_germline_end_blastn', 'd_support_blastn', 'd_score_blastn', 'd_sequence_alignment_blastn', 'd_germline_alignment_blastn', 'd_source', 'junction_aa_length', 'fwr1_aa', 'fwr2_aa', 'fwr3_aa', 'fwr4_aa', 'cdr1_aa', 'cdr2_aa', 'cdr3_aa', 'sequence_alignment_aa', 'v_sequence_alignment_aa', 'd_sequence_alignment_aa', 'j_sequence_alignment_aa', 'complete_vdj', 'j_call_multimappers', 'j_call_multiplicity', 'j_call_sequence_start_multimappers', 'j_call_sequence_end_multimappers', 'j_call_support_multimappers', 'rearrangement_status'\n",
       "    metadata: 'locus_VDJ', 'locus_VJ', 'productive_VDJ', 'productive_VJ', 'v_call_VDJ', 'd_call_VDJ', 'j_call_VDJ', 'v_call_VJ', 'j_call_VJ', 'c_call_VDJ', 'c_call_VJ', 'junction_VDJ', 'junction_VJ', 'junction_aa_VDJ', 'junction_aa_VJ', 'v_call_abT_VDJ', 'd_call_abT_VDJ', 'j_call_abT_VDJ', 'v_call_abT_VJ', 'j_call_abT_VJ', 'c_call_abT_VDJ', 'c_call_abT_VJ', 'productive_abT_VDJ', 'productive_abT_VJ', 'v_call_gdT_VDJ', 'd_call_gdT_VDJ', 'j_call_gdT_VDJ', 'v_call_gdT_VJ', 'j_call_gdT_VJ', 'c_call_gdT_VDJ', 'c_call_gdT_VJ', 'productive_gdT_VDJ', 'productive_gdT_VJ', 'duplicate_count_abT_VDJ', 'duplicate_count_abT_VJ', 'duplicate_count_gdT_VDJ', 'duplicate_count_gdT_VJ', 'v_call_VDJ_main', 'v_call_VJ_main', 'd_call_VDJ_main', 'j_call_VDJ_main', 'j_call_VJ_main', 'c_call_VDJ_main', 'c_call_VJ_main', 'v_call_abT_VDJ_main', 'd_call_abT_VDJ_main', 'j_call_abT_VDJ_main', 'v_call_abT_VJ_main', 'j_call_abT_VJ_main', 'v_call_gdT_VDJ_main', 'd_call_gdT_VDJ_main', 'j_call_gdT_VDJ_main', 'v_call_gdT_VJ_main', 'j_call_gdT_VJ_main', 'isotype', 'isotype_status', 'locus_status', 'chain_status', 'rearrangement_status_VDJ', 'rearrangement_status_VJ'"
      ]
     },
     "execution_count": 13,
     "metadata": {},
     "output_type": "execute_result"
    }
   ],
   "source": [
    "# concatenate\n",
    "tcrgd = ddl.concat([tcrgd[x] for x in tcrgd], prefixes = list(tcrgd.keys()))\n",
    "tcrgd"
   ]
  },
  {
   "cell_type": "code",
   "execution_count": 14,
   "id": "egyptian-moscow",
   "metadata": {},
   "outputs": [
    {
     "name": "stderr",
     "output_type": "stream",
     "text": [
      "Preparing data: 25100it [00:10, 2310.25it/s]\n",
      "Scanning for poor quality/ambiguous contigs: 100%|██████████| 15526/15526 [01:37<00:00, 159.34it/s]\n"
     ]
    },
    {
     "data": {
      "text/plain": [
       "Dandelion class object with n_obs = 15430 and n_contigs = 25100\n",
       "    data: 'sequence_id', 'sequence', 'rev_comp', 'productive', 'v_call', 'd_call', 'j_call', 'sequence_alignment', 'germline_alignment', 'junction', 'junction_aa', 'v_cigar', 'd_cigar', 'j_cigar', 'stop_codon', 'vj_in_frame', 'locus', 'c_call', 'junction_length', 'np1_length', 'np2_length', 'v_sequence_start', 'v_sequence_end', 'v_germline_start', 'v_germline_end', 'd_sequence_start', 'd_sequence_end', 'd_germline_start', 'd_germline_end', 'j_sequence_start', 'j_sequence_end', 'j_germline_start', 'j_germline_end', 'v_score', 'v_identity', 'v_support', 'd_score', 'd_identity', 'd_support', 'j_score', 'j_identity', 'j_support', 'fwr1', 'fwr2', 'fwr3', 'fwr4', 'cdr1', 'cdr2', 'cdr3', 'cell_id', 'consensus_count', 'duplicate_count', 'v_call_10x', 'd_call_10x', 'j_call_10x', 'junction_10x', 'junction_10x_aa', 'j_support_igblastn', 'j_score_igblastn', 'j_call_igblastn', 'j_call_blastn', 'j_identity_blastn', 'j_alignment_length_blastn', 'j_number_of_mismatches_blastn', 'j_number_of_gap_openings_blastn', 'j_sequence_start_blastn', 'j_sequence_end_blastn', 'j_germline_start_blastn', 'j_germline_end_blastn', 'j_support_blastn', 'j_score_blastn', 'j_sequence_alignment_blastn', 'j_germline_alignment_blastn', 'cell_id_blastn', 'j_source', 'd_support_igblastn', 'd_score_igblastn', 'd_call_igblastn', 'd_call_blastn', 'd_identity_blastn', 'd_alignment_length_blastn', 'd_number_of_mismatches_blastn', 'd_number_of_gap_openings_blastn', 'd_sequence_start_blastn', 'd_sequence_end_blastn', 'd_germline_start_blastn', 'd_germline_end_blastn', 'd_support_blastn', 'd_score_blastn', 'd_sequence_alignment_blastn', 'd_germline_alignment_blastn', 'd_source', 'junction_aa_length', 'fwr1_aa', 'fwr2_aa', 'fwr3_aa', 'fwr4_aa', 'cdr1_aa', 'cdr2_aa', 'cdr3_aa', 'sequence_alignment_aa', 'v_sequence_alignment_aa', 'd_sequence_alignment_aa', 'j_sequence_alignment_aa', 'complete_vdj', 'j_call_multimappers', 'j_call_multiplicity', 'j_call_sequence_start_multimappers', 'j_call_sequence_end_multimappers', 'j_call_support_multimappers', 'rearrangement_status', 'ambiguous'\n",
       "    metadata: 'locus_VDJ', 'locus_VJ', 'productive_VDJ', 'productive_VJ', 'v_call_VDJ', 'd_call_VDJ', 'j_call_VDJ', 'v_call_VJ', 'j_call_VJ', 'c_call_VDJ', 'c_call_VJ', 'junction_VDJ', 'junction_VJ', 'junction_aa_VDJ', 'junction_aa_VJ', 'v_call_gdT_VDJ', 'd_call_gdT_VDJ', 'j_call_gdT_VDJ', 'v_call_gdT_VJ', 'j_call_gdT_VJ', 'c_call_gdT_VDJ', 'c_call_gdT_VJ', 'productive_gdT_VDJ', 'productive_gdT_VJ', 'duplicate_count_gdT_VDJ', 'duplicate_count_gdT_VJ', 'v_call_VDJ_main', 'v_call_VJ_main', 'd_call_VDJ_main', 'j_call_VDJ_main', 'j_call_VJ_main', 'c_call_VDJ_main', 'c_call_VJ_main', 'v_call_gdT_VDJ_main', 'd_call_gdT_VDJ_main', 'j_call_gdT_VDJ_main', 'v_call_gdT_VJ_main', 'j_call_gdT_VJ_main', 'isotype', 'isotype_status', 'locus_status', 'chain_status', 'rearrangement_status_VDJ', 'rearrangement_status_VJ'"
      ]
     },
     "execution_count": 14,
     "metadata": {},
     "output_type": "execute_result"
    }
   ],
   "source": [
    "tcrgd_checked, trgd_adata = ddl.pp.check_contigs(tcrgd, adata, productive_only = False, library_type = 'tr-gd')\n",
    "tcrgd_checked"
   ]
  },
  {
   "cell_type": "markdown",
   "id": "annoying-macedonia",
   "metadata": {},
   "source": [
    "## bcr"
   ]
  },
  {
   "cell_type": "code",
   "execution_count": 15,
   "id": "explicit-forestry",
   "metadata": {
    "tags": []
   },
   "outputs": [
    {
     "data": {
      "text/html": [
       "<div>\n",
       "<style scoped>\n",
       "    .dataframe tbody tr th:only-of-type {\n",
       "        vertical-align: middle;\n",
       "    }\n",
       "\n",
       "    .dataframe tbody tr th {\n",
       "        vertical-align: top;\n",
       "    }\n",
       "\n",
       "    .dataframe thead th {\n",
       "        text-align: right;\n",
       "    }\n",
       "</style>\n",
       "<table border=\"1\" class=\"dataframe\">\n",
       "  <thead>\n",
       "    <tr style=\"text-align: right;\">\n",
       "      <th></th>\n",
       "      <th>Unnamed: 0</th>\n",
       "      <th>BCR</th>\n",
       "      <th>GEX file</th>\n",
       "      <th>donor</th>\n",
       "    </tr>\n",
       "  </thead>\n",
       "  <tbody>\n",
       "    <tr>\n",
       "      <th>0</th>\n",
       "      <td>0</td>\n",
       "      <td>WSSS_F_Imm10014564</td>\n",
       "      <td>FCAImmP7292029</td>\n",
       "      <td>F29</td>\n",
       "    </tr>\n",
       "    <tr>\n",
       "      <th>1</th>\n",
       "      <td>1</td>\n",
       "      <td>WSSS_F_Imm10014565</td>\n",
       "      <td>FCAImmP7292031</td>\n",
       "      <td>F29</td>\n",
       "    </tr>\n",
       "    <tr>\n",
       "      <th>2</th>\n",
       "      <td>2</td>\n",
       "      <td>WSSS_F_Imm10014566</td>\n",
       "      <td>FCAImmP7292030</td>\n",
       "      <td>F29</td>\n",
       "    </tr>\n",
       "    <tr>\n",
       "      <th>3</th>\n",
       "      <td>3</td>\n",
       "      <td>WSSS_F_Imm10014567</td>\n",
       "      <td>FCAImmP7555860</td>\n",
       "      <td>F41</td>\n",
       "    </tr>\n",
       "    <tr>\n",
       "      <th>4</th>\n",
       "      <td>4</td>\n",
       "      <td>WSSS_F_Imm10014568</td>\n",
       "      <td>FCAImmP7555856</td>\n",
       "      <td>F41</td>\n",
       "    </tr>\n",
       "    <tr>\n",
       "      <th>5</th>\n",
       "      <td>5</td>\n",
       "      <td>WSSS_F_Imm10014569</td>\n",
       "      <td>FCAImmP7555862</td>\n",
       "      <td>F41</td>\n",
       "    </tr>\n",
       "    <tr>\n",
       "      <th>6</th>\n",
       "      <td>6</td>\n",
       "      <td>WSSS_F_Imm10014570</td>\n",
       "      <td>FCAImmP7555859</td>\n",
       "      <td>F41</td>\n",
       "    </tr>\n",
       "    <tr>\n",
       "      <th>7</th>\n",
       "      <td>7</td>\n",
       "      <td>WSSS_F_Imm10014571</td>\n",
       "      <td>FCAImmP7579230</td>\n",
       "      <td>F45</td>\n",
       "    </tr>\n",
       "    <tr>\n",
       "      <th>8</th>\n",
       "      <td>8</td>\n",
       "      <td>WSSS_F_Imm10014572</td>\n",
       "      <td>FCAImmP7579226</td>\n",
       "      <td>F45</td>\n",
       "    </tr>\n",
       "    <tr>\n",
       "      <th>9</th>\n",
       "      <td>9</td>\n",
       "      <td>WSSS_F_Imm10014573</td>\n",
       "      <td>FCAImmP7579228</td>\n",
       "      <td>F45</td>\n",
       "    </tr>\n",
       "    <tr>\n",
       "      <th>10</th>\n",
       "      <td>10</td>\n",
       "      <td>WSSS_F_Imm10014574</td>\n",
       "      <td>FCAImmP7579232</td>\n",
       "      <td>F45</td>\n",
       "    </tr>\n",
       "    <tr>\n",
       "      <th>11</th>\n",
       "      <td>11</td>\n",
       "      <td>WSSS_F_Imm10014575-FCAImmP7812649</td>\n",
       "      <td>FCAImmP7803020</td>\n",
       "      <td>F50</td>\n",
       "    </tr>\n",
       "    <tr>\n",
       "      <th>12</th>\n",
       "      <td>12</td>\n",
       "      <td>WSSS_F_Imm10014576-FCAImmP7812650</td>\n",
       "      <td>FCAImmP7803021</td>\n",
       "      <td>F50</td>\n",
       "    </tr>\n",
       "    <tr>\n",
       "      <th>13</th>\n",
       "      <td>13</td>\n",
       "      <td>WSSS_F_Imm10014577</td>\n",
       "      <td>FCAImmP7803016</td>\n",
       "      <td>F50</td>\n",
       "    </tr>\n",
       "    <tr>\n",
       "      <th>14</th>\n",
       "      <td>14</td>\n",
       "      <td>WSSS_F_Imm10014578</td>\n",
       "      <td>FCAImmP7803017</td>\n",
       "      <td>F50</td>\n",
       "    </tr>\n",
       "    <tr>\n",
       "      <th>15</th>\n",
       "      <td>15</td>\n",
       "      <td>WSSS_F_Imm10014579</td>\n",
       "      <td>FCAImmP7803037</td>\n",
       "      <td>F51</td>\n",
       "    </tr>\n",
       "    <tr>\n",
       "      <th>16</th>\n",
       "      <td>16</td>\n",
       "      <td>WSSS_F_Imm10014580</td>\n",
       "      <td>FCAImmP7803038</td>\n",
       "      <td>F51</td>\n",
       "    </tr>\n",
       "    <tr>\n",
       "      <th>17</th>\n",
       "      <td>17</td>\n",
       "      <td>WSSS_F_Imm10014581</td>\n",
       "      <td>FCAImmP7803034</td>\n",
       "      <td>F51</td>\n",
       "    </tr>\n",
       "    <tr>\n",
       "      <th>18</th>\n",
       "      <td>18</td>\n",
       "      <td>WSSS_F_Imm10014582</td>\n",
       "      <td>FCAImmP7803035</td>\n",
       "      <td>F51</td>\n",
       "    </tr>\n",
       "    <tr>\n",
       "      <th>19</th>\n",
       "      <td>19</td>\n",
       "      <td>WSSS_F_Imm10014583</td>\n",
       "      <td>FCAImmP7803028</td>\n",
       "      <td>F51</td>\n",
       "    </tr>\n",
       "    <tr>\n",
       "      <th>20</th>\n",
       "      <td>20</td>\n",
       "      <td>WSSS_F_Imm10014584</td>\n",
       "      <td>FCAImmP7803029</td>\n",
       "      <td>F51</td>\n",
       "    </tr>\n",
       "    <tr>\n",
       "      <th>21</th>\n",
       "      <td>21</td>\n",
       "      <td>WSSS_F_Imm10014585</td>\n",
       "      <td>FCAImmP7803030</td>\n",
       "      <td>F51</td>\n",
       "    </tr>\n",
       "    <tr>\n",
       "      <th>22</th>\n",
       "      <td>22</td>\n",
       "      <td>WSSS_F_Imm10014586</td>\n",
       "      <td>FCAImmP7862084</td>\n",
       "      <td>F61</td>\n",
       "    </tr>\n",
       "    <tr>\n",
       "      <th>23</th>\n",
       "      <td>23</td>\n",
       "      <td>WSSS_F_Imm10014587</td>\n",
       "      <td>FCAImmP7964506</td>\n",
       "      <td>F71</td>\n",
       "    </tr>\n",
       "    <tr>\n",
       "      <th>24</th>\n",
       "      <td>24</td>\n",
       "      <td>WSSS_F_Imm10014588</td>\n",
       "      <td>FCAImmP7964507</td>\n",
       "      <td>F71</td>\n",
       "    </tr>\n",
       "    <tr>\n",
       "      <th>25</th>\n",
       "      <td>25</td>\n",
       "      <td>FCAImmP7812651</td>\n",
       "      <td>FCAImmP7803024</td>\n",
       "      <td>F50</td>\n",
       "    </tr>\n",
       "    <tr>\n",
       "      <th>26</th>\n",
       "      <td>26</td>\n",
       "      <td>FCAImmP7812652</td>\n",
       "      <td>FCAImmP7803025</td>\n",
       "      <td>F50</td>\n",
       "    </tr>\n",
       "    <tr>\n",
       "      <th>27</th>\n",
       "      <td>27</td>\n",
       "      <td>FCA_gut8090116</td>\n",
       "      <td>FCA_gut8015057</td>\n",
       "      <td>F78</td>\n",
       "    </tr>\n",
       "    <tr>\n",
       "      <th>28</th>\n",
       "      <td>28</td>\n",
       "      <td>FCA_gut8090117</td>\n",
       "      <td>FCA_gut8015058</td>\n",
       "      <td>F78</td>\n",
       "    </tr>\n",
       "    <tr>\n",
       "      <th>29</th>\n",
       "      <td>29</td>\n",
       "      <td>FCA_gut8090118</td>\n",
       "      <td>FCA_gut8015059</td>\n",
       "      <td>F78</td>\n",
       "    </tr>\n",
       "    <tr>\n",
       "      <th>30</th>\n",
       "      <td>30</td>\n",
       "      <td>FCA_gut8090119</td>\n",
       "      <td>FCA_gut8015060</td>\n",
       "      <td>F78</td>\n",
       "    </tr>\n",
       "    <tr>\n",
       "      <th>31</th>\n",
       "      <td>31</td>\n",
       "      <td>FCA_gut8090120</td>\n",
       "      <td>FCA_gut8015061</td>\n",
       "      <td>F78</td>\n",
       "    </tr>\n",
       "    <tr>\n",
       "      <th>32</th>\n",
       "      <td>32</td>\n",
       "      <td>Human_colon_16S8157863</td>\n",
       "      <td>Human_colon_16S8159182</td>\n",
       "      <td>F72</td>\n",
       "    </tr>\n",
       "    <tr>\n",
       "      <th>33</th>\n",
       "      <td>33</td>\n",
       "      <td>Human_colon_16S8157864</td>\n",
       "      <td>Human_colon_16S8159183</td>\n",
       "      <td>F72</td>\n",
       "    </tr>\n",
       "    <tr>\n",
       "      <th>34</th>\n",
       "      <td>34</td>\n",
       "      <td>Human_colon_16S8157865</td>\n",
       "      <td>Human_colon_16S8159184</td>\n",
       "      <td>F72</td>\n",
       "    </tr>\n",
       "    <tr>\n",
       "      <th>35</th>\n",
       "      <td>35</td>\n",
       "      <td>Human_colon_16S8157866</td>\n",
       "      <td>Human_colon_16S8159185</td>\n",
       "      <td>F72</td>\n",
       "    </tr>\n",
       "    <tr>\n",
       "      <th>36</th>\n",
       "      <td>36</td>\n",
       "      <td>Human_colon_16S8157867</td>\n",
       "      <td>Human_colon_16S8159186</td>\n",
       "      <td>F72</td>\n",
       "    </tr>\n",
       "    <tr>\n",
       "      <th>37</th>\n",
       "      <td>37</td>\n",
       "      <td>Human_colon_16S8157868</td>\n",
       "      <td>Human_colon_16S8159187</td>\n",
       "      <td>F73</td>\n",
       "    </tr>\n",
       "    <tr>\n",
       "      <th>38</th>\n",
       "      <td>38</td>\n",
       "      <td>Human_colon_16S8157869</td>\n",
       "      <td>Human_colon_16S8159188</td>\n",
       "      <td>F73</td>\n",
       "    </tr>\n",
       "    <tr>\n",
       "      <th>39</th>\n",
       "      <td>39</td>\n",
       "      <td>Human_colon_16S8157870</td>\n",
       "      <td>Human_colon_16S8159189</td>\n",
       "      <td>F73</td>\n",
       "    </tr>\n",
       "    <tr>\n",
       "      <th>40</th>\n",
       "      <td>40</td>\n",
       "      <td>Human_colon_16S8157871</td>\n",
       "      <td>Human_colon_16S8159190</td>\n",
       "      <td>F73</td>\n",
       "    </tr>\n",
       "  </tbody>\n",
       "</table>\n",
       "</div>"
      ],
      "text/plain": [
       "    Unnamed: 0                                BCR                GEX file  \\\n",
       "0            0                 WSSS_F_Imm10014564          FCAImmP7292029   \n",
       "1            1                 WSSS_F_Imm10014565          FCAImmP7292031   \n",
       "2            2                 WSSS_F_Imm10014566          FCAImmP7292030   \n",
       "3            3                 WSSS_F_Imm10014567          FCAImmP7555860   \n",
       "4            4                 WSSS_F_Imm10014568          FCAImmP7555856   \n",
       "5            5                 WSSS_F_Imm10014569          FCAImmP7555862   \n",
       "6            6                 WSSS_F_Imm10014570          FCAImmP7555859   \n",
       "7            7                 WSSS_F_Imm10014571          FCAImmP7579230   \n",
       "8            8                 WSSS_F_Imm10014572          FCAImmP7579226   \n",
       "9            9                 WSSS_F_Imm10014573          FCAImmP7579228   \n",
       "10          10                 WSSS_F_Imm10014574          FCAImmP7579232   \n",
       "11          11  WSSS_F_Imm10014575-FCAImmP7812649          FCAImmP7803020   \n",
       "12          12  WSSS_F_Imm10014576-FCAImmP7812650          FCAImmP7803021   \n",
       "13          13                 WSSS_F_Imm10014577          FCAImmP7803016   \n",
       "14          14                 WSSS_F_Imm10014578          FCAImmP7803017   \n",
       "15          15                 WSSS_F_Imm10014579          FCAImmP7803037   \n",
       "16          16                 WSSS_F_Imm10014580          FCAImmP7803038   \n",
       "17          17                 WSSS_F_Imm10014581          FCAImmP7803034   \n",
       "18          18                 WSSS_F_Imm10014582          FCAImmP7803035   \n",
       "19          19                 WSSS_F_Imm10014583          FCAImmP7803028   \n",
       "20          20                 WSSS_F_Imm10014584          FCAImmP7803029   \n",
       "21          21                 WSSS_F_Imm10014585          FCAImmP7803030   \n",
       "22          22                 WSSS_F_Imm10014586          FCAImmP7862084   \n",
       "23          23                 WSSS_F_Imm10014587          FCAImmP7964506   \n",
       "24          24                 WSSS_F_Imm10014588          FCAImmP7964507   \n",
       "25          25                     FCAImmP7812651          FCAImmP7803024   \n",
       "26          26                     FCAImmP7812652          FCAImmP7803025   \n",
       "27          27                     FCA_gut8090116          FCA_gut8015057   \n",
       "28          28                     FCA_gut8090117          FCA_gut8015058   \n",
       "29          29                     FCA_gut8090118          FCA_gut8015059   \n",
       "30          30                     FCA_gut8090119          FCA_gut8015060   \n",
       "31          31                     FCA_gut8090120          FCA_gut8015061   \n",
       "32          32             Human_colon_16S8157863  Human_colon_16S8159182   \n",
       "33          33             Human_colon_16S8157864  Human_colon_16S8159183   \n",
       "34          34             Human_colon_16S8157865  Human_colon_16S8159184   \n",
       "35          35             Human_colon_16S8157866  Human_colon_16S8159185   \n",
       "36          36             Human_colon_16S8157867  Human_colon_16S8159186   \n",
       "37          37             Human_colon_16S8157868  Human_colon_16S8159187   \n",
       "38          38             Human_colon_16S8157869  Human_colon_16S8159188   \n",
       "39          39             Human_colon_16S8157870  Human_colon_16S8159189   \n",
       "40          40             Human_colon_16S8157871  Human_colon_16S8159190   \n",
       "\n",
       "   donor  \n",
       "0    F29  \n",
       "1    F29  \n",
       "2    F29  \n",
       "3    F41  \n",
       "4    F41  \n",
       "5    F41  \n",
       "6    F41  \n",
       "7    F45  \n",
       "8    F45  \n",
       "9    F45  \n",
       "10   F45  \n",
       "11   F50  \n",
       "12   F50  \n",
       "13   F50  \n",
       "14   F50  \n",
       "15   F51  \n",
       "16   F51  \n",
       "17   F51  \n",
       "18   F51  \n",
       "19   F51  \n",
       "20   F51  \n",
       "21   F51  \n",
       "22   F61  \n",
       "23   F71  \n",
       "24   F71  \n",
       "25   F50  \n",
       "26   F50  \n",
       "27   F78  \n",
       "28   F78  \n",
       "29   F78  \n",
       "30   F78  \n",
       "31   F78  \n",
       "32   F72  \n",
       "33   F72  \n",
       "34   F72  \n",
       "35   F72  \n",
       "36   F72  \n",
       "37   F73  \n",
       "38   F73  \n",
       "39   F73  \n",
       "40   F73  "
      ]
     },
     "execution_count": 15,
     "metadata": {},
     "output_type": "execute_result"
    }
   ],
   "source": [
    "# read in bcr files\n",
    "bcr_meta = pd.read_csv('metadata/BCR_metadata_cleaned_07092022_with_donors_merged_2samples.csv')\n",
    "bcr_meta"
   ]
  },
  {
   "cell_type": "code",
   "execution_count": 16,
   "id": "convinced-volume",
   "metadata": {},
   "outputs": [
    {
     "name": "stderr",
     "output_type": "stream",
     "text": [
      "1it [00:06,  6.51s/it]/home/jovyan/dandelion/dandelion/utilities/_utilities.py:587: DtypeWarning: Columns (117,118,119) have mixed types. Specify dtype option on import or set low_memory=False.\n",
      "16it [00:44,  3.04s/it]/home/jovyan/dandelion/dandelion/utilities/_utilities.py:587: DtypeWarning: Columns (53,73,78,89,90,91,117,118,119) have mixed types. Specify dtype option on import or set low_memory=False.\n",
      "41it [01:06,  1.62s/it]\n"
     ]
    },
    {
     "data": {
      "text/plain": [
       "40"
      ]
     },
     "execution_count": 16,
     "metadata": {},
     "output_type": "execute_result"
    }
   ],
   "source": [
    "bcr = {}\n",
    "for x, y in tqdm(zip(bcr_meta[\"BCR\"], bcr_meta[\"GEX file\"])):\n",
    "    v_call_g, g_al, g_al_d = {}, {}, {}\n",
    "    file1 = vdj_loc + \"/\" + x + \"/dandelion/tmp/all_contig_igblast_db-all.tsv\"\n",
    "    file2 = vdj_loc + \"/\" + x + \"/dandelion/all_contig_dandelion.tsv\"\n",
    "    try:\n",
    "        tmp = ddl.load_data(file1)\n",
    "        tmp2 = pd.read_csv(file2, sep=\"\\t\")\n",
    "        # update v_call_genotyped and associated columns with data from post-dandelion\n",
    "        tmp['cell_id'] = [z[:-2] for z in tmp['cell_id']]\n",
    "        tmp = tmp[tmp[\"cell_id\"].isin(adata.obs_names)].copy()\n",
    "        if \"duplicate_count\" not in tmp:\n",
    "            tmp[\"duplicate_count\"] = tmp[\"umi_count\"]\n",
    "            tmp.drop(\"umi_count\", axis=1, inplace=True)\n",
    "        if tmp.shape[0] != 0:\n",
    "            for _, r in tmp2.iterrows():\n",
    "                seqid = r.sequence_id\n",
    "                v_call_g[seqid] = r.v_call_genotyped\n",
    "            for s in tmp.sequence_id:\n",
    "                if s not in v_call_g.keys():\n",
    "                    v_call_g[s] = tmp.loc[s, \"v_call\"]\n",
    "            tmp[\"v_call\"] = [v_call_g[si] for si in tmp.sequence_id]\n",
    "            bcr[x] = ddl.Dandelion(tmp)\n",
    "    except:\n",
    "        # print(x)\n",
    "        pass\n",
    "len(bcr)"
   ]
  },
  {
   "cell_type": "code",
   "execution_count": 17,
   "id": "aerial-circle",
   "metadata": {},
   "outputs": [
    {
     "data": {
      "text/plain": [
       "Dandelion class object with n_obs = 25565 and n_contigs = 73366\n",
       "    data: 'sequence_id', 'sequence', 'rev_comp', 'productive', 'v_call', 'd_call', 'j_call', 'sequence_alignment', 'germline_alignment', 'junction', 'junction_aa', 'v_cigar', 'd_cigar', 'j_cigar', 'stop_codon', 'vj_in_frame', 'locus', 'c_call', 'junction_length', 'np1_length', 'np2_length', 'v_sequence_start', 'v_sequence_end', 'v_germline_start', 'v_germline_end', 'd_sequence_start', 'd_sequence_end', 'd_germline_start', 'd_germline_end', 'j_sequence_start', 'j_sequence_end', 'j_germline_start', 'j_germline_end', 'v_score', 'v_identity', 'v_support', 'd_score', 'd_identity', 'd_support', 'j_score', 'j_identity', 'j_support', 'fwr1', 'fwr2', 'fwr3', 'fwr4', 'cdr1', 'cdr2', 'cdr3', 'cell_id', 'consensus_count', 'duplicate_count', 'v_call_10x', 'd_call_10x', 'j_call_10x', 'junction_10x', 'junction_10x_aa', 'j_support_igblastn', 'j_score_igblastn', 'j_call_igblastn', 'j_call_blastn', 'j_identity_blastn', 'j_alignment_length_blastn', 'j_number_of_mismatches_blastn', 'j_number_of_gap_openings_blastn', 'j_sequence_start_blastn', 'j_sequence_end_blastn', 'j_germline_start_blastn', 'j_germline_end_blastn', 'j_support_blastn', 'j_score_blastn', 'j_sequence_alignment_blastn', 'j_germline_alignment_blastn', 'cell_id_blastn', 'j_source', 'd_support_igblastn', 'd_score_igblastn', 'd_call_igblastn', 'd_call_blastn', 'd_identity_blastn', 'd_alignment_length_blastn', 'd_number_of_mismatches_blastn', 'd_number_of_gap_openings_blastn', 'd_sequence_start_blastn', 'd_sequence_end_blastn', 'd_germline_start_blastn', 'd_germline_end_blastn', 'd_support_blastn', 'd_score_blastn', 'd_sequence_alignment_blastn', 'd_germline_alignment_blastn', 'd_source', 'v_call_genotyped', 'germline_alignment_d_mask', 'sample_id', 'c_sequence_alignment', 'c_germline_alignment', 'c_sequence_start', 'c_sequence_end', 'c_score', 'c_identity', 'c_call_10x', 'junction_aa_length', 'fwr1_aa', 'fwr2_aa', 'fwr3_aa', 'fwr4_aa', 'cdr1_aa', 'cdr2_aa', 'cdr3_aa', 'sequence_alignment_aa', 'v_sequence_alignment_aa', 'd_sequence_alignment_aa', 'j_sequence_alignment_aa', 'complete_vdj', 'j_call_multimappers', 'j_call_multiplicity', 'j_call_sequence_start_multimappers', 'j_call_sequence_end_multimappers', 'j_call_support_multimappers', 'rearrangement_status'\n",
       "    metadata: 'sample_id', 'locus_VDJ', 'locus_VJ', 'productive_VDJ', 'productive_VJ', 'v_call_genotyped_VDJ', 'd_call_VDJ', 'j_call_VDJ', 'v_call_genotyped_VJ', 'j_call_VJ', 'c_call_VDJ', 'c_call_VJ', 'junction_VDJ', 'junction_VJ', 'junction_aa_VDJ', 'junction_aa_VJ', 'v_call_genotyped_B_VDJ', 'd_call_B_VDJ', 'j_call_B_VDJ', 'v_call_genotyped_B_VJ', 'j_call_B_VJ', 'c_call_B_VDJ', 'c_call_B_VJ', 'productive_B_VDJ', 'productive_B_VJ', 'duplicate_count_B_VDJ', 'duplicate_count_B_VJ', 'v_call_VDJ_main', 'v_call_VJ_main', 'd_call_VDJ_main', 'j_call_VDJ_main', 'j_call_VJ_main', 'c_call_VDJ_main', 'c_call_VJ_main', 'v_call_B_VDJ_main', 'd_call_B_VDJ_main', 'j_call_B_VDJ_main', 'v_call_B_VJ_main', 'j_call_B_VJ_main', 'isotype', 'isotype_status', 'locus_status', 'chain_status', 'rearrangement_status_VDJ', 'rearrangement_status_VJ'"
      ]
     },
     "execution_count": 17,
     "metadata": {},
     "output_type": "execute_result"
    }
   ],
   "source": [
    "# concatenate\n",
    "bcr = ddl.concat([bcr[x] for x in bcr])\n",
    "bcr"
   ]
  },
  {
   "cell_type": "code",
   "execution_count": 18,
   "id": "played-consciousness",
   "metadata": {
    "tags": []
   },
   "outputs": [
    {
     "name": "stderr",
     "output_type": "stream",
     "text": [
      "Preparing data: 73346it [00:35, 2049.72it/s]\n",
      "Scanning for poor quality/ambiguous contigs: 100%|██████████| 25565/25565 [04:46<00:00, 89.14it/s] \n"
     ]
    },
    {
     "data": {
      "text/plain": [
       "Dandelion class object with n_obs = 25505 and n_contigs = 73346\n",
       "    data: 'sequence_id', 'sequence', 'rev_comp', 'productive', 'v_call', 'd_call', 'j_call', 'sequence_alignment', 'germline_alignment', 'junction', 'junction_aa', 'v_cigar', 'd_cigar', 'j_cigar', 'stop_codon', 'vj_in_frame', 'locus', 'c_call', 'junction_length', 'np1_length', 'np2_length', 'v_sequence_start', 'v_sequence_end', 'v_germline_start', 'v_germline_end', 'd_sequence_start', 'd_sequence_end', 'd_germline_start', 'd_germline_end', 'j_sequence_start', 'j_sequence_end', 'j_germline_start', 'j_germline_end', 'v_score', 'v_identity', 'v_support', 'd_score', 'd_identity', 'd_support', 'j_score', 'j_identity', 'j_support', 'fwr1', 'fwr2', 'fwr3', 'fwr4', 'cdr1', 'cdr2', 'cdr3', 'cell_id', 'consensus_count', 'duplicate_count', 'v_call_10x', 'd_call_10x', 'j_call_10x', 'junction_10x', 'junction_10x_aa', 'j_support_igblastn', 'j_score_igblastn', 'j_call_igblastn', 'j_call_blastn', 'j_identity_blastn', 'j_alignment_length_blastn', 'j_number_of_mismatches_blastn', 'j_number_of_gap_openings_blastn', 'j_sequence_start_blastn', 'j_sequence_end_blastn', 'j_germline_start_blastn', 'j_germline_end_blastn', 'j_support_blastn', 'j_score_blastn', 'j_sequence_alignment_blastn', 'j_germline_alignment_blastn', 'cell_id_blastn', 'j_source', 'd_support_igblastn', 'd_score_igblastn', 'd_call_igblastn', 'd_call_blastn', 'd_identity_blastn', 'd_alignment_length_blastn', 'd_number_of_mismatches_blastn', 'd_number_of_gap_openings_blastn', 'd_sequence_start_blastn', 'd_sequence_end_blastn', 'd_germline_start_blastn', 'd_germline_end_blastn', 'd_support_blastn', 'd_score_blastn', 'd_sequence_alignment_blastn', 'd_germline_alignment_blastn', 'd_source', 'v_call_genotyped', 'germline_alignment_d_mask', 'sample_id', 'c_sequence_alignment', 'c_germline_alignment', 'c_sequence_start', 'c_sequence_end', 'c_score', 'c_identity', 'c_call_10x', 'junction_aa_length', 'fwr1_aa', 'fwr2_aa', 'fwr3_aa', 'fwr4_aa', 'cdr1_aa', 'cdr2_aa', 'cdr3_aa', 'sequence_alignment_aa', 'v_sequence_alignment_aa', 'd_sequence_alignment_aa', 'j_sequence_alignment_aa', 'complete_vdj', 'j_call_multimappers', 'j_call_multiplicity', 'j_call_sequence_start_multimappers', 'j_call_sequence_end_multimappers', 'j_call_support_multimappers', 'rearrangement_status', 'ambiguous'\n",
       "    metadata: 'sample_id', 'locus_VDJ', 'locus_VJ', 'productive_VDJ', 'productive_VJ', 'v_call_genotyped_VDJ', 'd_call_VDJ', 'j_call_VDJ', 'v_call_genotyped_VJ', 'j_call_VJ', 'c_call_VDJ', 'c_call_VJ', 'junction_VDJ', 'junction_VJ', 'junction_aa_VDJ', 'junction_aa_VJ', 'v_call_genotyped_B_VDJ', 'd_call_B_VDJ', 'j_call_B_VDJ', 'v_call_genotyped_B_VJ', 'j_call_B_VJ', 'c_call_B_VDJ', 'c_call_B_VJ', 'productive_B_VDJ', 'productive_B_VJ', 'duplicate_count_B_VDJ', 'duplicate_count_B_VJ', 'v_call_VDJ_main', 'v_call_VJ_main', 'd_call_VDJ_main', 'j_call_VDJ_main', 'j_call_VJ_main', 'c_call_VDJ_main', 'c_call_VJ_main', 'v_call_B_VDJ_main', 'd_call_B_VDJ_main', 'j_call_B_VDJ_main', 'v_call_B_VJ_main', 'j_call_B_VJ_main', 'isotype', 'isotype_status', 'locus_status', 'chain_status', 'rearrangement_status_VDJ', 'rearrangement_status_VJ'"
      ]
     },
     "execution_count": 18,
     "metadata": {},
     "output_type": "execute_result"
    }
   ],
   "source": [
    "bcr_checked, bcr_adata = ddl.pp.check_contigs(bcr, adata, productive_only = False, library_type = 'ig')\n",
    "bcr_checked"
   ]
  },
  {
   "cell_type": "markdown",
   "id": "appropriate-sphere",
   "metadata": {},
   "source": [
    "### save"
   ]
  },
  {
   "cell_type": "code",
   "execution_count": 19,
   "id": "pursuant-money",
   "metadata": {
    "collapsed": true,
    "jupyter": {
     "outputs_hidden": true
    },
    "tags": []
   },
   "outputs": [
    {
     "name": "stderr",
     "output_type": "stream",
     "text": [
      "/home/jovyan/dandelion/dandelion/utilities/_core.py:1399: PerformanceWarning: \n",
      "your performance may suffer as PyTables will pickle object types that it cannot\n",
      "map directly to c-types [inferred_type->mixed,key->block2_values] [items->Index(['sequence_id', 'sequence', 'rev_comp', 'productive', 'v_call', 'd_call',\n",
      "       'j_call', 'sequence_alignment', 'germline_alignment', 'junction',\n",
      "       'junction_aa', 'v_cigar', 'd_cigar', 'j_cigar', 'stop_codon',\n",
      "       'vj_in_frame', 'locus', 'c_call', 'fwr1', 'fwr2', 'fwr3', 'fwr4',\n",
      "       'cdr1', 'cdr2', 'cdr3', 'cell_id', 'v_call_10x', 'd_call_10x',\n",
      "       'j_call_10x', 'junction_10x', 'junction_10x_aa', 'j_call_igblastn',\n",
      "       'j_call_blastn', 'j_sequence_alignment_blastn',\n",
      "       'j_germline_alignment_blastn', 'cell_id_blastn', 'j_source',\n",
      "       'd_call_igblastn', 'd_call_blastn', 'd_sequence_alignment_blastn',\n",
      "       'd_germline_alignment_blastn', 'd_source', 'fwr1_aa', 'fwr2_aa',\n",
      "       'fwr3_aa', 'fwr4_aa', 'cdr1_aa', 'cdr2_aa', 'cdr3_aa',\n",
      "       'sequence_alignment_aa', 'v_sequence_alignment_aa',\n",
      "       'd_sequence_alignment_aa', 'j_sequence_alignment_aa', 'complete_vdj',\n",
      "       'j_call_multimappers', 'j_call_sequence_start_multimappers',\n",
      "       'j_call_sequence_end_multimappers', 'j_call_support_multimappers',\n",
      "       'rearrangement_status', 'ambiguous'],\n",
      "      dtype='object')]\n",
      "\n",
      "/home/jovyan/dandelion/dandelion/utilities/_core.py:1399: PerformanceWarning: \n",
      "your performance may suffer as PyTables will pickle object types that it cannot\n",
      "map directly to c-types [inferred_type->mixed,key->block2_values] [items->Index(['sequence_id', 'sequence', 'rev_comp', 'productive', 'v_call', 'd_call',\n",
      "       'j_call', 'sequence_alignment', 'germline_alignment', 'junction',\n",
      "       'junction_aa', 'v_cigar', 'd_cigar', 'j_cigar', 'stop_codon',\n",
      "       'vj_in_frame', 'locus', 'c_call', 'fwr1', 'fwr2', 'fwr3', 'fwr4',\n",
      "       'cdr1', 'cdr2', 'cdr3', 'cell_id', 'v_call_10x', 'j_call_10x',\n",
      "       'junction_10x', 'junction_10x_aa', 'j_call_igblastn', 'j_call_blastn',\n",
      "       'j_sequence_alignment_blastn', 'j_germline_alignment_blastn',\n",
      "       'cell_id_blastn', 'j_source', 'd_call_igblastn', 'd_call_blastn',\n",
      "       'd_sequence_alignment_blastn', 'd_germline_alignment_blastn',\n",
      "       'd_source', 'fwr1_aa', 'fwr2_aa', 'fwr3_aa', 'fwr4_aa', 'cdr1_aa',\n",
      "       'cdr2_aa', 'cdr3_aa', 'sequence_alignment_aa',\n",
      "       'v_sequence_alignment_aa', 'd_sequence_alignment_aa',\n",
      "       'j_sequence_alignment_aa', 'complete_vdj', 'j_call_multimappers',\n",
      "       'j_call_sequence_start_multimappers',\n",
      "       'j_call_sequence_end_multimappers', 'j_call_support_multimappers',\n",
      "       'rearrangement_status', 'ambiguous'],\n",
      "      dtype='object')]\n",
      "\n",
      "/home/jovyan/dandelion/dandelion/utilities/_core.py:1399: PerformanceWarning: \n",
      "your performance may suffer as PyTables will pickle object types that it cannot\n",
      "map directly to c-types [inferred_type->mixed-integer,key->block2_values] [items->Index(['sequence_id', 'sequence', 'rev_comp', 'productive', 'v_call', 'd_call',\n",
      "       'j_call', 'sequence_alignment', 'germline_alignment', 'junction',\n",
      "       'junction_aa', 'v_cigar', 'd_cigar', 'j_cigar', 'stop_codon',\n",
      "       'vj_in_frame', 'locus', 'c_call', 'fwr1', 'fwr2', 'fwr3', 'fwr4',\n",
      "       'cdr1', 'cdr2', 'cdr3', 'cell_id', 'v_call_10x', 'd_call_10x',\n",
      "       'j_call_10x', 'junction_10x', 'junction_10x_aa', 'j_call_igblastn',\n",
      "       'j_call_blastn', 'j_sequence_alignment_blastn',\n",
      "       'j_germline_alignment_blastn', 'cell_id_blastn', 'j_source',\n",
      "       'd_call_igblastn', 'd_call_blastn', 'd_sequence_alignment_blastn',\n",
      "       'd_germline_alignment_blastn', 'd_source', 'v_call_genotyped',\n",
      "       'germline_alignment_d_mask', 'sample_id', 'c_sequence_alignment',\n",
      "       'c_germline_alignment', 'c_call_10x', 'fwr1_aa', 'fwr2_aa', 'fwr3_aa',\n",
      "       'fwr4_aa', 'cdr1_aa', 'cdr2_aa', 'cdr3_aa', 'sequence_alignment_aa',\n",
      "       'v_sequence_alignment_aa', 'd_sequence_alignment_aa',\n",
      "       'j_sequence_alignment_aa', 'complete_vdj', 'j_call_multimappers',\n",
      "       'j_call_sequence_start_multimappers',\n",
      "       'j_call_sequence_end_multimappers', 'j_call_support_multimappers',\n",
      "       'rearrangement_status', 'ambiguous'],\n",
      "      dtype='object')]\n",
      "\n"
     ]
    }
   ],
   "source": [
    "tcrab_checked.write_h5ddl('write/abTCR_110123_panfetal.h5ddl', compression = 'blosc:lz4')\n",
    "tcrgd_checked.write_h5ddl('write/gdTCR_110123_panfetal.h5ddl', compression = 'blosc:lz4')\n",
    "bcr_checked.write_h5ddl('write/BCR_110123_panfetal.h5ddl', compression = 'blosc:lz4')\n",
    "#tcrab_checked.write_h5ddl('write/abTCR_150822_panfetal.h5ddl', compression = 'blosc:lz4')\n",
    "#tcrgd_checked.write_h5ddl('write/gdTCR_150822_panfetal.h5ddl', compression = 'blosc:lz4')\n",
    "#bcr_checked.write_h5ddl('write/BCR_150822_panfetal.h5ddl', compression = 'blosc:lz4')"
   ]
  },
  {
   "cell_type": "code",
   "execution_count": 7,
   "id": "incorporated-brazil",
   "metadata": {},
   "outputs": [],
   "source": [
    "tcrab_checked = ddl.read_h5ddl('write/abTCR_110123_panfetal.h5ddl')\n",
    "tcrgd_checked = ddl.read_h5ddl('write/gdTCR_110123_panfetal.h5ddl')\n",
    "bcr_checked = ddl.read_h5ddl('write/BCR_110123_panfetal.h5ddl')"
   ]
  },
  {
   "cell_type": "code",
   "execution_count": 20,
   "id": "absent-marathon",
   "metadata": {
    "scrolled": true
   },
   "outputs": [],
   "source": [
    "trab_adata.write_h5ad('write/abTCR_110123_panfetal.h5ad', compression = 'gzip')\n",
    "trgd_adata.write_h5ad('write/gdTCR_110123_panfetal.h5ad', compression = 'gzip')\n",
    "bcr_adata.write_h5ad('write/BCR_110123_panfetal.h5ad', compression = 'gzip')\n",
    "#trab_adata.write_h5ad('write/abTCR_150822_panfetal.h5ad', compression = 'gzip')\n",
    "#trgd_adata.write_h5ad('write/gdTCR_150822_panfetal.h5ad', compression = 'gzip')\n",
    "#bcr_adata.write_h5ad('write/BCR_150822_panfetal.h5ad', compression = 'gzip')"
   ]
  },
  {
   "cell_type": "markdown",
   "id": "humanitarian-hundred",
   "metadata": {},
   "source": [
    "### make a singular object"
   ]
  },
  {
   "cell_type": "code",
   "execution_count": 9,
   "id": "concerned-touch",
   "metadata": {},
   "outputs": [
    {
     "data": {
      "text/plain": [
       "Dandelion class object with n_obs = 93861 and n_contigs = 267038\n",
       "    data: 'sequence_id', 'sequence', 'rev_comp', 'productive', 'v_call', 'd_call', 'j_call', 'sequence_alignment', 'germline_alignment', 'junction', 'junction_aa', 'v_cigar', 'd_cigar', 'j_cigar', 'stop_codon', 'vj_in_frame', 'locus', 'c_call', 'junction_length', 'np1_length', 'np2_length', 'v_sequence_start', 'v_sequence_end', 'v_germline_start', 'v_germline_end', 'd_sequence_start', 'd_sequence_end', 'd_germline_start', 'd_germline_end', 'j_sequence_start', 'j_sequence_end', 'j_germline_start', 'j_germline_end', 'v_score', 'v_identity', 'v_support', 'd_score', 'd_identity', 'd_support', 'j_score', 'j_identity', 'j_support', 'fwr1', 'fwr2', 'fwr3', 'fwr4', 'cdr1', 'cdr2', 'cdr3', 'cell_id', 'consensus_count', 'duplicate_count', 'v_call_10x', 'd_call_10x', 'j_call_10x', 'junction_10x', 'junction_10x_aa', 'j_support_igblastn', 'j_score_igblastn', 'j_call_igblastn', 'j_call_blastn', 'j_identity_blastn', 'j_alignment_length_blastn', 'j_number_of_mismatches_blastn', 'j_number_of_gap_openings_blastn', 'j_sequence_start_blastn', 'j_sequence_end_blastn', 'j_germline_start_blastn', 'j_germline_end_blastn', 'j_support_blastn', 'j_score_blastn', 'j_sequence_alignment_blastn', 'j_germline_alignment_blastn', 'cell_id_blastn', 'j_source', 'd_support_igblastn', 'd_score_igblastn', 'd_call_igblastn', 'd_call_blastn', 'd_identity_blastn', 'd_alignment_length_blastn', 'd_number_of_mismatches_blastn', 'd_number_of_gap_openings_blastn', 'd_sequence_start_blastn', 'd_sequence_end_blastn', 'd_germline_start_blastn', 'd_germline_end_blastn', 'd_support_blastn', 'd_score_blastn', 'd_sequence_alignment_blastn', 'd_germline_alignment_blastn', 'd_source', 'junction_aa_length', 'fwr1_aa', 'fwr2_aa', 'fwr3_aa', 'fwr4_aa', 'cdr1_aa', 'cdr2_aa', 'cdr3_aa', 'sequence_alignment_aa', 'v_sequence_alignment_aa', 'd_sequence_alignment_aa', 'j_sequence_alignment_aa', 'complete_vdj', 'j_call_multimappers', 'j_call_multiplicity', 'j_call_sequence_start_multimappers', 'j_call_sequence_end_multimappers', 'j_call_support_multimappers', 'rearrangement_status', 'ambiguous', 'v_call_genotyped', 'germline_alignment_d_mask', 'sample_id', 'c_sequence_alignment', 'c_germline_alignment', 'c_sequence_start', 'c_sequence_end', 'c_score', 'c_identity', 'c_call_10x'\n",
       "    metadata: 'sample_id', 'locus_VDJ', 'locus_VJ', 'productive_VDJ', 'productive_VJ', 'v_call_genotyped_VDJ', 'd_call_VDJ', 'j_call_VDJ', 'v_call_genotyped_VJ', 'j_call_VJ', 'c_call_VDJ', 'c_call_VJ', 'junction_VDJ', 'junction_VJ', 'junction_aa_VDJ', 'junction_aa_VJ', 'v_call_genotyped_B_VDJ', 'd_call_B_VDJ', 'j_call_B_VDJ', 'v_call_genotyped_B_VJ', 'j_call_B_VJ', 'c_call_B_VDJ', 'c_call_B_VJ', 'productive_B_VDJ', 'productive_B_VJ', 'v_call_genotyped_abT_VDJ', 'd_call_abT_VDJ', 'j_call_abT_VDJ', 'v_call_genotyped_abT_VJ', 'j_call_abT_VJ', 'c_call_abT_VDJ', 'c_call_abT_VJ', 'productive_abT_VDJ', 'productive_abT_VJ', 'v_call_genotyped_gdT_VDJ', 'd_call_gdT_VDJ', 'j_call_gdT_VDJ', 'v_call_genotyped_gdT_VJ', 'j_call_gdT_VJ', 'c_call_gdT_VDJ', 'c_call_gdT_VJ', 'productive_gdT_VDJ', 'productive_gdT_VJ', 'duplicate_count_B_VDJ', 'duplicate_count_B_VJ', 'duplicate_count_abT_VDJ', 'duplicate_count_abT_VJ', 'duplicate_count_gdT_VDJ', 'duplicate_count_gdT_VJ', 'v_call_VDJ_main', 'v_call_VJ_main', 'd_call_VDJ_main', 'j_call_VDJ_main', 'j_call_VJ_main', 'c_call_VDJ_main', 'c_call_VJ_main', 'v_call_B_VDJ_main', 'd_call_B_VDJ_main', 'j_call_B_VDJ_main', 'v_call_B_VJ_main', 'j_call_B_VJ_main', 'v_call_abT_VDJ_main', 'd_call_abT_VDJ_main', 'j_call_abT_VDJ_main', 'v_call_abT_VJ_main', 'j_call_abT_VJ_main', 'v_call_gdT_VDJ_main', 'd_call_gdT_VDJ_main', 'j_call_gdT_VDJ_main', 'v_call_gdT_VJ_main', 'j_call_gdT_VJ_main', 'isotype', 'isotype_status', 'locus_status', 'chain_status', 'rearrangement_status_VDJ', 'rearrangement_status_VJ'"
      ]
     },
     "execution_count": 9,
     "metadata": {},
     "output_type": "execute_result"
    }
   ],
   "source": [
    "tcrgd_checked.data['v_call_genotyped'] = tcrgd_checked.data.v_call\n",
    "tcrab_checked.data['v_call_genotyped'] = tcrab_checked.data.v_call\n",
    "vdj = ddl.concat([tcrab_checked,tcrgd_checked,bcr_checked])\n",
    "vdj # problem that v_call_VDJ_main disappeared"
   ]
  },
  {
   "cell_type": "code",
   "execution_count": 10,
   "id": "challenging-bibliography",
   "metadata": {},
   "outputs": [],
   "source": [
    "ddl.tl.transfer(adata, vdj)"
   ]
  },
  {
   "cell_type": "code",
   "execution_count": 11,
   "id": "israeli-elephant",
   "metadata": {},
   "outputs": [],
   "source": [
    "adata.write_h5ad('write/PAN.A01.v01.entire_data_normalised_log.20210429.LYMPHOID.embedding_dandelion_110123.h5ad', compression = 'gzip')\n",
    "#adata.write_h5ad('write/PAN.A01.v01.entire_data_normalised_log.20210429.LYMPHOID.embedding_dandelion_150822.h5ad', compression = 'gzip')"
   ]
  },
  {
   "cell_type": "code",
   "execution_count": 12,
   "id": "settled-zoning",
   "metadata": {},
   "outputs": [
    {
     "data": {
      "text/plain": [
       "AnnData object with n_obs × n_vars = 241950 × 33538\n",
       "    obs: 'n_counts', 'n_genes', 'file', 'mito', 'doublet_scores', 'predicted_doublets', 'name', 'uniform_label', 'uniform_label_expanded_merged', 'uniform_label_lvl0', 'organ', 'Sample.lanes', 'Sort_id', 'age', 'method', 'donor', 'sex', 'Processing_method', 'AnnatomicalPart', 'Sample', 'bbk', 'scvi_clusters', 'anno_lvl_2_LYMPHOID', 'anno_lvl_2_MYELOID', 'anno_lvl_2_MEM_PROGENITORS', 'leiden_150', 'anno_lvl_2_final_clean', 'sample_id', 'locus_VDJ', 'locus_VJ', 'productive_VDJ', 'productive_VJ', 'v_call_genotyped_VDJ', 'd_call_VDJ', 'j_call_VDJ', 'v_call_genotyped_VJ', 'j_call_VJ', 'c_call_VDJ', 'c_call_VJ', 'junction_VDJ', 'junction_VJ', 'junction_aa_VDJ', 'junction_aa_VJ', 'v_call_genotyped_B_VDJ', 'd_call_B_VDJ', 'j_call_B_VDJ', 'v_call_genotyped_B_VJ', 'j_call_B_VJ', 'c_call_B_VDJ', 'c_call_B_VJ', 'productive_B_VDJ', 'productive_B_VJ', 'v_call_genotyped_abT_VDJ', 'd_call_abT_VDJ', 'j_call_abT_VDJ', 'v_call_genotyped_abT_VJ', 'j_call_abT_VJ', 'c_call_abT_VDJ', 'c_call_abT_VJ', 'productive_abT_VDJ', 'productive_abT_VJ', 'v_call_genotyped_gdT_VDJ', 'd_call_gdT_VDJ', 'j_call_gdT_VDJ', 'v_call_genotyped_gdT_VJ', 'j_call_gdT_VJ', 'c_call_gdT_VDJ', 'c_call_gdT_VJ', 'productive_gdT_VDJ', 'productive_gdT_VJ', 'duplicate_count_B_VDJ', 'duplicate_count_B_VJ', 'duplicate_count_abT_VDJ', 'duplicate_count_abT_VJ', 'duplicate_count_gdT_VDJ', 'duplicate_count_gdT_VJ', 'v_call_VDJ_main', 'v_call_VJ_main', 'd_call_VDJ_main', 'j_call_VDJ_main', 'j_call_VJ_main', 'c_call_VDJ_main', 'c_call_VJ_main', 'v_call_B_VDJ_main', 'd_call_B_VDJ_main', 'j_call_B_VDJ_main', 'v_call_B_VJ_main', 'j_call_B_VJ_main', 'v_call_abT_VDJ_main', 'd_call_abT_VDJ_main', 'j_call_abT_VDJ_main', 'v_call_abT_VJ_main', 'j_call_abT_VJ_main', 'v_call_gdT_VDJ_main', 'd_call_gdT_VDJ_main', 'j_call_gdT_VDJ_main', 'v_call_gdT_VJ_main', 'j_call_gdT_VJ_main', 'isotype', 'isotype_status', 'locus_status', 'chain_status', 'rearrangement_status_VDJ', 'rearrangement_status_VJ'\n",
       "    var: 'GeneID', 'GeneName', 'highly_variable', 'means', 'dispersions', 'dispersions_norm'\n",
       "    uns: 'anno_lvl_2_LYMPHOID_colors', 'dendrogram_scvi_clusters', 'donor_colors', 'isin_HSC_IMMUNE_colors', 'isin_LYMPHOID_colors', 'isin_MEM_PROGENITORS_colors', 'isin_MYELOID_LYMPHOID_colors', 'isin_MYELOID_colors', 'isin_STROMA_colors', 'leiden_150_pred_label_expanded_colors', 'organ_colors', 'scvi', 'scvi_clusters_colors', 'uniform_label_expanded_merged_propagated_colors'\n",
       "    obsm: 'X_scvi', 'X_umap'\n",
       "    obsp: 'scvi_connectivities', 'scvi_distances'"
      ]
     },
     "execution_count": 12,
     "metadata": {},
     "output_type": "execute_result"
    }
   ],
   "source": [
    "adata"
   ]
  },
  {
   "cell_type": "code",
   "execution_count": null,
   "id": "formed-thanksgiving",
   "metadata": {},
   "outputs": [],
   "source": []
  }
 ],
 "metadata": {
  "kernelspec": {
   "display_name": "palantir",
   "language": "python",
   "name": "palantir"
  },
  "language_info": {
   "codemirror_mode": {
    "name": "ipython",
    "version": 3
   },
   "file_extension": ".py",
   "mimetype": "text/x-python",
   "name": "python",
   "nbconvert_exporter": "python",
   "pygments_lexer": "ipython3",
   "version": "3.8.6"
  }
 },
 "nbformat": 4,
 "nbformat_minor": 5
}
