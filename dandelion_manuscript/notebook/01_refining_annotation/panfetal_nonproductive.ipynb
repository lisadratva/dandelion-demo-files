{
 "cells": [
  {
   "cell_type": "markdown",
   "id": "critical-dutch",
   "metadata": {},
   "source": [
    "# Explore % in TRA/TRB/TRG/TRD/IGH/IGL/IGK productive vs nonproductive"
   ]
  },
  {
   "cell_type": "code",
   "execution_count": 1,
   "id": "developmental-apparel",
   "metadata": {
    "tags": []
   },
   "outputs": [],
   "source": [
    "import numpy as np\n",
    "import scipy as sp\n",
    "import scanpy as sc\n",
    "import pandas as pd\n",
    "from collections import Counter\n",
    "import matplotlib.pyplot as plt\n",
    "from matplotlib import rcParams\n",
    "from matplotlib import rc\n",
    "from matplotlib import colors\n",
    "import matplotlib.patches as mpatches\n",
    "import seaborn as sb\n",
    "from itertools import compress\n",
    "import random\n",
    "import scirpy as ir\n",
    "import os\n",
    "\n",
    "sc.settings.set_figure_params(dpi = 160, color_map = 'RdYlBu_r', dpi_save = 300, format = 'pdf')\n",
    "plt.rcParams[\"figure.figsize\"] = [6,6]"
   ]
  },
  {
   "cell_type": "code",
   "execution_count": 2,
   "id": "superb-egypt",
   "metadata": {},
   "outputs": [],
   "source": [
    "sb.set_palette('colorblind')"
   ]
  },
  {
   "cell_type": "code",
   "execution_count": 3,
   "id": "jewish-boston",
   "metadata": {},
   "outputs": [],
   "source": [
    "# import utils\n",
    "import sys\n",
    "sys.path.append('/home/jovyan/chenqu_utils')\n",
    "from array_operations import *"
   ]
  },
  {
   "cell_type": "code",
   "execution_count": 4,
   "id": "interstate-circular",
   "metadata": {},
   "outputs": [
    {
     "name": "stdout",
     "output_type": "stream",
     "text": [
      "/lustre/scratch117/cellgen/team205/cs42/VDJ_collab_manuscript\n"
     ]
    }
   ],
   "source": [
    "# set working directory\n",
    "%cd /lustre/scratch117/cellgen/team205/cs42/VDJ_collab_manuscript/"
   ]
  },
  {
   "cell_type": "code",
   "execution_count": 5,
   "id": "certain-contractor",
   "metadata": {},
   "outputs": [],
   "source": [
    "# figure directory\n",
    "fig_path = '/home/jovyan/mount/gdrive/VDJ_collab/plots_output/chenqu_jhub/'\n",
    "sc.settings.figdir = fig_path"
   ]
  },
  {
   "cell_type": "markdown",
   "id": "focused-russell",
   "metadata": {},
   "source": [
    "# Load data"
   ]
  },
  {
   "cell_type": "markdown",
   "id": "hollow-destination",
   "metadata": {},
   "source": [
    "### abTCR"
   ]
  },
  {
   "cell_type": "code",
   "execution_count": 6,
   "id": "entitled-residence",
   "metadata": {},
   "outputs": [],
   "source": [
    "#path = '/lustre/scratch117/cellgen/team205/sharedData/cs42/all-dandelion-paper-map/'\n",
    "path = 'data_remap_11012023/dandelion-remap/'"
   ]
  },
  {
   "cell_type": "code",
   "execution_count": 7,
   "id": "dirty-cheat",
   "metadata": {},
   "outputs": [],
   "source": [
    "# load metadata\n",
    "meta = pd.read_csv('metadata/abTCR_metadata_cleaned_24032022.csv')"
   ]
  },
  {
   "cell_type": "code",
   "execution_count": 8,
   "id": "corporate-knife",
   "metadata": {
    "collapsed": true,
    "jupyter": {
     "outputs_hidden": true
    },
    "tags": []
   },
   "outputs": [
    {
     "name": "stdout",
     "output_type": "stream",
     "text": [
      "FCAImmP7292944\n",
      "FCAImmP7292941\n",
      "FCAImmP7292942\n",
      "FCAImmP7292943\n",
      "FCAImmP7292947\n",
      "FCAImmP7292940\n",
      "FCAImmP7292945\n",
      "FCAImmP7292946\n",
      "FCAImmP7607589\n",
      "FCAImmP7607590\n",
      "FCAImmP7607591\n",
      "FCAImmP7607593\n",
      "FCAImmP7607592\n",
      "FCAImmP7607594\n",
      "FCAImmP7607601\n",
      "FCAImmP7607598\n",
      "FCAImmP7607595\n",
      "FCAImmP7607596\n",
      "FCAImmP7607597\n",
      "FCAImmP7607599\n",
      "FCAImmP7607600\n",
      "FCAImmP7607610\n",
      "FCAImmP7607611\n",
      "FCAImmP7607603\n",
      "FCAImmP7607604\n",
      "FCAImmP7607605\n",
      "FCAImmP7607602\n",
      "FCAImmP7607606\n",
      "FCAImmP7607607\n",
      "FCAImmP7607608\n",
      "FCAImmP7607609\n",
      "FCAImmP7812643\n",
      "FCAImmP7812644\n",
      "FCAImmP7812645\n",
      "FCAImmP7812646\n",
      "FCAImmP7812653\n",
      "FCAImmP7812654\n",
      "FCAImmP7812655\n",
      "FCAImmP7812656\n",
      "FCAImmP7812657\n",
      "FCAImmP7851882\n",
      "FCAImmP7851883\n",
      "FCAImmP7851884\n",
      "FCAImmP7851885\n",
      "FCAImmP7851886\n",
      "FCAImmP7851887\n",
      "FCAImmP7851888\n",
      "FCAImmP7851889\n",
      "FCAImmP7964494\n",
      "FCAImmP7964497\n",
      "FCAImmP7964498\n",
      "FCA_gut8090111\n",
      "FCA_gut8090112\n",
      "FCA_gut8090113\n",
      "FCA_gut8090114\n",
      "FCA_gut8090115\n",
      "Human_colon_16S8157847\n",
      "Human_colon_16S8157848\n",
      "Human_colon_16S8157849\n",
      "Human_colon_16S8157850\n",
      "Human_colon_16S8157851\n",
      "Human_colon_16S8157852\n",
      "Human_colon_16S8157853\n",
      "Human_colon_16S8157854\n",
      "Human_colon_16S8157855\n"
     ]
    }
   ],
   "source": [
    "# load all contigs\n",
    "vdj = None\n",
    "for lane_id, gex_id in zip(meta['lane_id'], meta['GEX_id']):\n",
    "    if os.path.exists(path+lane_id+'/dandelion/tmp/all_contig_igblast_db-all.tsv'):\n",
    "        df = pd.read_csv(path+lane_id+'/dandelion/tmp/all_contig_igblast_db-all.tsv', delimiter='\\t', index_col='sequence_id',dtype='object')\n",
    "    else:\n",
    "        # for samples with no contigs in db-pass\n",
    "        df = pd.read_csv(path+lane_id+'/dandelion/tmp/all_contig_igblast_db-fail.tsv', delimiter='\\t', index_col='sequence_id',dtype='object')\n",
    "    \n",
    "    \n",
    "    # update index column with lane_id info\n",
    "    df.index = gex_id +'-'+ df.index\n",
    "    \n",
    "    # concatenate files from different samples\n",
    "    if vdj is None:\n",
    "        vdj = df.copy()\n",
    "    else:\n",
    "        vdj = pd.concat([vdj, df], sort=False)\n",
    "    \n",
    "    print(lane_id)"
   ]
  },
  {
   "cell_type": "code",
   "execution_count": 9,
   "id": "loving-uncle",
   "metadata": {},
   "outputs": [],
   "source": [
    "vdj_ab = vdj.loc[vdj['locus'].isin(['TRA','TRB']),:]"
   ]
  },
  {
   "cell_type": "markdown",
   "id": "exterior-google",
   "metadata": {},
   "source": [
    "### gdTCR"
   ]
  },
  {
   "cell_type": "code",
   "execution_count": 10,
   "id": "sapphire-record",
   "metadata": {},
   "outputs": [],
   "source": [
    "# load metadata\n",
    "meta2 = pd.read_csv('metadata/gdTCR_metadata_cleaned_24032022.csv')"
   ]
  },
  {
   "cell_type": "code",
   "execution_count": 11,
   "id": "seven-assignment",
   "metadata": {},
   "outputs": [],
   "source": [
    "meta2 = meta2.loc[~(meta2['GDTCR']=='WSSS_F_Imm10424062'),:] #WSSS_F_Imm10424062 was empty i.e. no contig detected"
   ]
  },
  {
   "cell_type": "code",
   "execution_count": 12,
   "id": "supposed-fundamentals",
   "metadata": {
    "collapsed": true,
    "jupyter": {
     "outputs_hidden": true
    },
    "tags": []
   },
   "outputs": [
    {
     "name": "stdout",
     "output_type": "stream",
     "text": [
      "WSSS_F_Imm10424040\n",
      "WSSS_F_Imm10424041\n",
      "WSSS_F_Imm10424042\n",
      "WSSS_F_Imm10424043\n",
      "WSSS_F_Imm10424044\n",
      "WSSS_F_Imm10424045\n",
      "WSSS_F_Imm10424046\n",
      "WSSS_F_Imm10424047\n",
      "WSSS_F_Imm10424048\n",
      "WSSS_F_Imm10424049\n",
      "WSSS_F_Imm10424050\n",
      "WSSS_F_Imm10424051\n",
      "WSSS_F_Imm10424052\n",
      "WSSS_F_Imm10424053\n",
      "WSSS_F_Imm10424054\n",
      "WSSS_F_Imm10424055\n",
      "WSSS_F_Imm10424056\n",
      "WSSS_F_Imm10424057\n",
      "WSSS_F_Imm10424058\n",
      "WSSS_F_Imm10424059\n",
      "WSSS_F_Imm10424060\n",
      "WSSS_F_Imm10424061\n",
      "WSSS_F_Imm11279975\n",
      "WSSS_F_Imm11279976\n",
      "WSSS_F_Imm12128717\n",
      "WSSS_F_Imm12128718\n",
      "WSSS_F_Imm12128719\n",
      "WSSS_F_Imm12128720\n",
      "WSSS_F_Imm12128721\n",
      "WSSS_F_Imm12128722\n",
      "WSSS_F_Imm12128723\n",
      "WSSS_F_Imm12128724\n",
      "WSSS_F_Imm12128725\n"
     ]
    }
   ],
   "source": [
    "# load all contigs\n",
    "vdj2 = None\n",
    "path2 = path+'gdT/original/'\n",
    "for lane_id, gex_id in zip(meta2['GDTCR'], meta2['GEX file']):\n",
    "    if os.path.exists(path2+lane_id+'/dandelion/tmp/all_contig_igblast_db-all.tsv'):\n",
    "        df = pd.read_csv(path2+lane_id+'/dandelion/tmp/all_contig_igblast_db-all.tsv', delimiter='\\t', index_col='sequence_id',dtype='object')\n",
    "    else:\n",
    "        # for samples with no contigs in db-pass\n",
    "        df = pd.read_csv(path2+lane_id+'/dandelion/tmp/all_contig_igblast_db-fail.tsv', delimiter='\\t', index_col='sequence_id',dtype='object')\n",
    "    \n",
    "    \n",
    "    # update index column with lane_id info\n",
    "    df.index = gex_id +'-'+ df.index\n",
    "    \n",
    "    # concatenate files from different samples\n",
    "    if vdj2 is None:\n",
    "        vdj2 = df.copy()\n",
    "    else:\n",
    "        vdj2 = pd.concat([vdj2, df], sort=False)\n",
    "    \n",
    "    print(lane_id)"
   ]
  },
  {
   "cell_type": "code",
   "execution_count": 13,
   "id": "saved-wilson",
   "metadata": {},
   "outputs": [],
   "source": [
    "vdj_gd = vdj2.loc[vdj2['locus'].isin(['TRG','TRD']),:]"
   ]
  },
  {
   "cell_type": "markdown",
   "id": "smoking-edinburgh",
   "metadata": {},
   "source": [
    "### BCR"
   ]
  },
  {
   "cell_type": "code",
   "execution_count": 14,
   "id": "following-ownership",
   "metadata": {},
   "outputs": [],
   "source": [
    "# load metadata\n",
    "meta3 = pd.read_csv('metadata/BCR_metadata_cleaned_07092022_with_donors_merged_2samples.csv')"
   ]
  },
  {
   "cell_type": "code",
   "execution_count": 15,
   "id": "lined-picnic",
   "metadata": {
    "collapsed": true,
    "jupyter": {
     "outputs_hidden": true
    },
    "tags": []
   },
   "outputs": [
    {
     "name": "stdout",
     "output_type": "stream",
     "text": [
      "WSSS_F_Imm10014564\n",
      "WSSS_F_Imm10014565\n",
      "WSSS_F_Imm10014566\n",
      "WSSS_F_Imm10014567\n",
      "WSSS_F_Imm10014568\n",
      "WSSS_F_Imm10014569\n",
      "WSSS_F_Imm10014570\n",
      "WSSS_F_Imm10014571\n",
      "WSSS_F_Imm10014572\n",
      "WSSS_F_Imm10014573\n",
      "WSSS_F_Imm10014574\n",
      "WSSS_F_Imm10014575-FCAImmP7812649\n",
      "WSSS_F_Imm10014576-FCAImmP7812650\n",
      "WSSS_F_Imm10014577\n",
      "WSSS_F_Imm10014578\n",
      "WSSS_F_Imm10014579\n",
      "WSSS_F_Imm10014580\n",
      "WSSS_F_Imm10014581\n",
      "WSSS_F_Imm10014582\n",
      "WSSS_F_Imm10014583\n",
      "WSSS_F_Imm10014584\n",
      "WSSS_F_Imm10014585\n",
      "WSSS_F_Imm10014586\n",
      "WSSS_F_Imm10014587\n",
      "WSSS_F_Imm10014588\n",
      "FCAImmP7812651\n",
      "FCAImmP7812652\n",
      "FCA_gut8090116\n",
      "FCA_gut8090117\n",
      "FCA_gut8090118\n",
      "FCA_gut8090119\n",
      "FCA_gut8090120\n",
      "Human_colon_16S8157863\n",
      "Human_colon_16S8157864\n",
      "Human_colon_16S8157865\n",
      "Human_colon_16S8157866\n",
      "Human_colon_16S8157867\n",
      "Human_colon_16S8157868\n",
      "Human_colon_16S8157869\n",
      "Human_colon_16S8157870\n",
      "Human_colon_16S8157871\n"
     ]
    }
   ],
   "source": [
    "# load all contigs\n",
    "vdj3 = None\n",
    "for lane_id, gex_id in zip(meta3['BCR'], meta3['GEX file']):\n",
    "    if os.path.exists(path+lane_id+'/dandelion/tmp/all_contig_igblast_db-all.tsv'):\n",
    "        df = pd.read_csv(path+lane_id+'/dandelion/tmp/all_contig_igblast_db-all.tsv', delimiter='\\t', index_col='sequence_id',dtype='object')\n",
    "    else:\n",
    "        # for samples with no contigs in db-pass\n",
    "        df = pd.read_csv(path+lane_id+'/dandelion/tmp/all_contig_igblast_db-fail.tsv', delimiter='\\t', index_col='sequence_id',dtype='object')\n",
    "    \n",
    "    \n",
    "    # update index column with lane_id info\n",
    "    df.index = gex_id +'-'+ df.index\n",
    "    \n",
    "    # concatenate files from different samples\n",
    "    if vdj3 is None:\n",
    "        vdj3 = df.copy()\n",
    "    else:\n",
    "        vdj3 = pd.concat([vdj3, df], sort=False)\n",
    "    \n",
    "    print(lane_id)"
   ]
  },
  {
   "cell_type": "code",
   "execution_count": 16,
   "id": "active-muscle",
   "metadata": {},
   "outputs": [],
   "source": [
    "vdj_bcr = vdj3.loc[vdj3['locus'].isin(['IGH', 'IGK', 'IGL']),:]"
   ]
  },
  {
   "cell_type": "markdown",
   "id": "embedded-punch",
   "metadata": {},
   "source": [
    "# Check % of prod vs nonprod contigs, and reasons of nonprod contigs"
   ]
  },
  {
   "cell_type": "code",
   "execution_count": 17,
   "id": "bibliographic-shadow",
   "metadata": {},
   "outputs": [],
   "source": [
    "# concatenate abtcr and gdtcr, bcr\n",
    "vdj_combine = pd.concat([vdj_ab,vdj_gd,vdj_bcr])\n",
    "# set sample column\n",
    "vdj_combine['sample'] = [barcode.split('-')[0] for barcode in vdj_combine.index]\n",
    "\n",
    "vdj_combine['v_gene_present'] = ~(vdj_combine['v_call'].isna())\n",
    "\n",
    "# duplicate_count is the umi count\n",
    "vdj_combine['duplicate_count'] = vdj_combine['duplicate_count'].astype('float')"
   ]
  },
  {
   "cell_type": "markdown",
   "id": "impressed-taxation",
   "metadata": {},
   "source": [
    "add celltype information"
   ]
  },
  {
   "cell_type": "code",
   "execution_count": 18,
   "id": "colored-example",
   "metadata": {},
   "outputs": [
    {
     "name": "stderr",
     "output_type": "stream",
     "text": [
      "/home/jovyan/my-conda-envs/skeleton/lib/python3.8/site-packages/IPython/core/interactiveshell.py:3146: DtypeWarning: Columns (6) have mixed types.Specify dtype option on import or set low_memory=False.\n",
      "  has_raised = await self.run_ast_nodes(code_ast.body, cell_name,\n"
     ]
    }
   ],
   "source": [
    "# downloaded from https://developmental.cellatlas.io/fetal-immune\n",
    "obs = pd.read_csv('/nfs/team205/ed6/data/Fetal_immune/PAN.A01.v01.entire_data_normalised_log.20210429.full_obs.annotated.clean.csv', index_col = 0) # final annotations and removed maternal contaminant cells"
   ]
  },
  {
   "cell_type": "code",
   "execution_count": 19,
   "id": "annual-snowboard",
   "metadata": {},
   "outputs": [],
   "source": [
    "vdj_combine['cell_barcode'] = [name[-27:-11] for name in vdj_combine.index]\n",
    "vdj_combine['sample_cell_barcode'] = vdj_combine['sample']+'-'+vdj_combine['cell_barcode']"
   ]
  },
  {
   "cell_type": "code",
   "execution_count": 20,
   "id": "mysterious-idaho",
   "metadata": {},
   "outputs": [],
   "source": [
    "vdj_combine['celltype'] = lookup(vdj_combine['sample_cell_barcode'], obs, -1, 'anno_lvl_2_final_clean')\n",
    "vdj_combine['organ'] = lookup(vdj_combine['sample'], obs, 'file', 'organ')"
   ]
  },
  {
   "cell_type": "code",
   "execution_count": 21,
   "id": "liked-paradise",
   "metadata": {},
   "outputs": [],
   "source": [
    "#vdj_combine.to_csv('csv/panfetal_vdj_combine.csv')\n",
    "vdj_combine.to_csv('csv/panfetal_vdj_combine_11012023.csv')"
   ]
  },
  {
   "cell_type": "code",
   "execution_count": 22,
   "id": "dirty-success",
   "metadata": {},
   "outputs": [
    {
     "name": "stderr",
     "output_type": "stream",
     "text": [
      "/home/jovyan/my-conda-envs/skeleton/lib/python3.8/site-packages/IPython/core/interactiveshell.py:3146: DtypeWarning: Columns (53,110,111,112,113,114,119) have mixed types.Specify dtype option on import or set low_memory=False.\n",
      "  has_raised = await self.run_ast_nodes(code_ast.body, cell_name,\n"
     ]
    }
   ],
   "source": [
    "#vdj_combine = pd.read_csv('csv/panfetal_vdj_combine.csv', index_col=0)\n",
    "vdj_combine = pd.read_csv('csv/panfetal_vdj_combine_11012023.csv', index_col=0)"
   ]
  },
  {
   "cell_type": "markdown",
   "id": "adjacent-copyright",
   "metadata": {},
   "source": [
    "Only leave contigs in a cell - as the other contigs might be ambient RNA"
   ]
  },
  {
   "cell_type": "code",
   "execution_count": 23,
   "id": "found-stuart",
   "metadata": {},
   "outputs": [],
   "source": [
    "vdj_cell = vdj_combine[~vdj_combine['celltype'].isna()]"
   ]
  },
  {
   "cell_type": "code",
   "execution_count": 40,
   "id": "traditional-nickname",
   "metadata": {},
   "outputs": [],
   "source": [
    "### skip this step for main figure\n",
    "### for supplementary Figure \n",
    "# remove thymic samples to make sure this is not just thymus\n",
    "vdj_cell = vdj_cell[~(vdj_cell['organ']=='TH')]"
   ]
  },
  {
   "cell_type": "code",
   "execution_count": 41,
   "id": "weird-particular",
   "metadata": {},
   "outputs": [],
   "source": [
    "df = pd.DataFrame(index = set(vdj_cell['locus']), columns=['prod_n','nonprod_n','nonprod_noV','nonprod_premature_stop','nonprod_frameshift','nonprod_incomplete_vdj','prod_mean_umi','nonprod_mean_umi'])"
   ]
  },
  {
   "cell_type": "code",
   "execution_count": 42,
   "id": "unknown-wedding",
   "metadata": {
    "tags": []
   },
   "outputs": [],
   "source": [
    "for gene in df.index:\n",
    "    a = np.array(vdj_cell['locus']==gene)\n",
    "    b = np.array(vdj_cell['productive']=='T')\n",
    "    c = np.array(vdj_cell['productive']=='F')\n",
    "    d = np.array(vdj_cell['v_gene_present']==False) # no V gene\n",
    "    e = np.array(vdj_cell['stop_codon']=='T') # premature stop codon\n",
    "    f = np.array(vdj_cell['vj_in_frame']=='F') # frameshift\n",
    "    h = np.array(vdj_cell['junction'].isna()) #incomplete contigs i.e. no cdr3 despite a v gene\n",
    "\n",
    "    counter = Counter(vdj_cell.loc[vdj_cell['locus']==gene,'productive'])\n",
    "    df.loc[gene, 'prod_n'] = counter['T']\n",
    "    df.loc[gene, 'nonprod_n'] = counter['F']\n",
    "    \n",
    "    # count how many of nonproductive contigs don't have V gene\n",
    "    x = a & c # nonproductive contigs of a given locus\n",
    "    y = x & d\n",
    "    df.loc[gene, 'nonprod_noV'] = sum(y)\n",
    "    \n",
    "    # count how many of nonproductive contigs have premature stop codon \n",
    "    ## in stop_codon column - NaN when there is no v gene; T when there is premature stop codon\n",
    "    z = x & e\n",
    "    df.loc[gene, 'nonprod_premature_stop'] = sum(z)\n",
    "    \n",
    "    # count how many of nonproductive contigs have frameshift\n",
    "    ## in vj_in_frame column - excluding contigs without v gene or have premature stop codon i.e. in contigs with v gene and stop_codon =='F'\n",
    "    w = x & f\n",
    "    u = w & ~d # v_gene_present == True\n",
    "    v = u & ~e # stop_codon =='F'\n",
    "    df.loc[gene, 'nonprod_frameshift'] = sum(v)\n",
    "    \n",
    "    # count how many of nonproductive contigs are due to incomplete contigs \n",
    "    ## i.e. no cdr3 despite a v gene, and not counted for premature stop codon or out of frame\n",
    "    t = x & h\n",
    "    s = t & ~d # v_gene_present == True\n",
    "    r = s & ~e # stop_codon =='F'\n",
    "    q = r & ~f # vj_in_frame == 'T'\n",
    "    df.loc[gene,'nonprod_incomplete_vdj'] = sum(q)\n",
    "    \n",
    "    df.loc[gene,'prod_mean_umi'] = np.mean(vdj_cell.loc[a & b,'duplicate_count']) # duplicate_count column is the umi count\n",
    "    df.loc[gene,'nonprod_mean_umi'] = np.mean(vdj_cell.loc[a & c,'duplicate_count'])"
   ]
  },
  {
   "cell_type": "code",
   "execution_count": 43,
   "id": "arbitrary-intent",
   "metadata": {},
   "outputs": [],
   "source": [
    "df['prod_perc'] = df['prod_n'] / (df['prod_n'] + df['nonprod_n']) * 100\n",
    "df['nonprod_perc'] = df['nonprod_n'] / (df['prod_n'] + df['nonprod_n'])* 100\n",
    "df['nonprod_noV_perc'] = df['nonprod_noV'] / df['nonprod_n']* 100\n",
    "df['nonprod_premature_stop_perc'] = df['nonprod_premature_stop'] / df['nonprod_n']* 100\n",
    "df['nonprod_frameshift_perc'] = df['nonprod_frameshift'] / df['nonprod_n']* 100\n",
    "#df['nonprod_incomplete_vdj_perc'] = df['nonprod_incomplete_vdj'] / df['nonprod_n']* 100\n",
    "# this shows that majority nonproductive chains are explained by the 3 reasons - no V, premature stop or frameshift\n",
    "df['nonprod_others'] = df['nonprod_n'] - df['nonprod_noV'] - df['nonprod_premature_stop'] - df['nonprod_frameshift']\n",
    "df['nonprod_others_perc'] = df['nonprod_others'] / df['nonprod_n']* 100"
   ]
  },
  {
   "cell_type": "code",
   "execution_count": 44,
   "id": "industrial-water",
   "metadata": {
    "tags": []
   },
   "outputs": [
    {
     "data": {
      "text/html": [
       "<div>\n",
       "<style scoped>\n",
       "    .dataframe tbody tr th:only-of-type {\n",
       "        vertical-align: middle;\n",
       "    }\n",
       "\n",
       "    .dataframe tbody tr th {\n",
       "        vertical-align: top;\n",
       "    }\n",
       "\n",
       "    .dataframe thead th {\n",
       "        text-align: right;\n",
       "    }\n",
       "</style>\n",
       "<table border=\"1\" class=\"dataframe\">\n",
       "  <thead>\n",
       "    <tr style=\"text-align: right;\">\n",
       "      <th></th>\n",
       "      <th>prod_n</th>\n",
       "      <th>nonprod_n</th>\n",
       "      <th>nonprod_noV</th>\n",
       "      <th>nonprod_premature_stop</th>\n",
       "      <th>nonprod_frameshift</th>\n",
       "      <th>nonprod_incomplete_vdj</th>\n",
       "      <th>prod_mean_umi</th>\n",
       "      <th>nonprod_mean_umi</th>\n",
       "      <th>prod_perc</th>\n",
       "      <th>nonprod_perc</th>\n",
       "      <th>nonprod_noV_perc</th>\n",
       "      <th>nonprod_premature_stop_perc</th>\n",
       "      <th>nonprod_frameshift_perc</th>\n",
       "      <th>nonprod_others</th>\n",
       "      <th>nonprod_others_perc</th>\n",
       "    </tr>\n",
       "  </thead>\n",
       "  <tbody>\n",
       "    <tr>\n",
       "      <th>TRA</th>\n",
       "      <td>14096</td>\n",
       "      <td>7617</td>\n",
       "      <td>2670</td>\n",
       "      <td>3033</td>\n",
       "      <td>1882</td>\n",
       "      <td>32</td>\n",
       "      <td>7.5913</td>\n",
       "      <td>3.69634</td>\n",
       "      <td>64.9196</td>\n",
       "      <td>35.0804</td>\n",
       "      <td>35.0532</td>\n",
       "      <td>39.8188</td>\n",
       "      <td>24.7079</td>\n",
       "      <td>32</td>\n",
       "      <td>0.420113</td>\n",
       "    </tr>\n",
       "    <tr>\n",
       "      <th>IGH</th>\n",
       "      <td>24115</td>\n",
       "      <td>10582</td>\n",
       "      <td>8201</td>\n",
       "      <td>1387</td>\n",
       "      <td>970</td>\n",
       "      <td>24</td>\n",
       "      <td>43.2076</td>\n",
       "      <td>8.79588</td>\n",
       "      <td>69.5017</td>\n",
       "      <td>30.4983</td>\n",
       "      <td>77.4995</td>\n",
       "      <td>13.1072</td>\n",
       "      <td>9.16651</td>\n",
       "      <td>24</td>\n",
       "      <td>0.2268</td>\n",
       "    </tr>\n",
       "    <tr>\n",
       "      <th>TRD</th>\n",
       "      <td>962</td>\n",
       "      <td>6251</td>\n",
       "      <td>6208</td>\n",
       "      <td>14</td>\n",
       "      <td>29</td>\n",
       "      <td>0</td>\n",
       "      <td>10.6736</td>\n",
       "      <td>8.97008</td>\n",
       "      <td>13.337</td>\n",
       "      <td>86.663</td>\n",
       "      <td>99.3121</td>\n",
       "      <td>0.223964</td>\n",
       "      <td>0.463926</td>\n",
       "      <td>0</td>\n",
       "      <td>0</td>\n",
       "    </tr>\n",
       "    <tr>\n",
       "      <th>IGL</th>\n",
       "      <td>9137</td>\n",
       "      <td>12709</td>\n",
       "      <td>9454</td>\n",
       "      <td>2017</td>\n",
       "      <td>1202</td>\n",
       "      <td>36</td>\n",
       "      <td>83.6279</td>\n",
       "      <td>19.1449</td>\n",
       "      <td>41.8246</td>\n",
       "      <td>58.1754</td>\n",
       "      <td>74.3882</td>\n",
       "      <td>15.8706</td>\n",
       "      <td>9.45786</td>\n",
       "      <td>36</td>\n",
       "      <td>0.283264</td>\n",
       "    </tr>\n",
       "    <tr>\n",
       "      <th>TRB</th>\n",
       "      <td>14707</td>\n",
       "      <td>18242</td>\n",
       "      <td>15584</td>\n",
       "      <td>1625</td>\n",
       "      <td>1021</td>\n",
       "      <td>10</td>\n",
       "      <td>17.4724</td>\n",
       "      <td>7.61687</td>\n",
       "      <td>44.6356</td>\n",
       "      <td>55.3644</td>\n",
       "      <td>85.4292</td>\n",
       "      <td>8.90801</td>\n",
       "      <td>5.59697</td>\n",
       "      <td>12</td>\n",
       "      <td>0.0657823</td>\n",
       "    </tr>\n",
       "    <tr>\n",
       "      <th>IGK</th>\n",
       "      <td>10947</td>\n",
       "      <td>9636</td>\n",
       "      <td>5087</td>\n",
       "      <td>737</td>\n",
       "      <td>3706</td>\n",
       "      <td>101</td>\n",
       "      <td>86.747</td>\n",
       "      <td>16.7565</td>\n",
       "      <td>53.1847</td>\n",
       "      <td>46.8153</td>\n",
       "      <td>52.7916</td>\n",
       "      <td>7.6484</td>\n",
       "      <td>38.4599</td>\n",
       "      <td>106</td>\n",
       "      <td>1.10004</td>\n",
       "    </tr>\n",
       "    <tr>\n",
       "      <th>TRG</th>\n",
       "      <td>1536</td>\n",
       "      <td>6385</td>\n",
       "      <td>5552</td>\n",
       "      <td>621</td>\n",
       "      <td>197</td>\n",
       "      <td>4</td>\n",
       "      <td>5.04948</td>\n",
       "      <td>2.9408</td>\n",
       "      <td>19.3915</td>\n",
       "      <td>80.6085</td>\n",
       "      <td>86.9538</td>\n",
       "      <td>9.72592</td>\n",
       "      <td>3.08536</td>\n",
       "      <td>15</td>\n",
       "      <td>0.234926</td>\n",
       "    </tr>\n",
       "  </tbody>\n",
       "</table>\n",
       "</div>"
      ],
      "text/plain": [
       "    prod_n nonprod_n nonprod_noV nonprod_premature_stop nonprod_frameshift  \\\n",
       "TRA  14096      7617        2670                   3033               1882   \n",
       "IGH  24115     10582        8201                   1387                970   \n",
       "TRD    962      6251        6208                     14                 29   \n",
       "IGL   9137     12709        9454                   2017               1202   \n",
       "TRB  14707     18242       15584                   1625               1021   \n",
       "IGK  10947      9636        5087                    737               3706   \n",
       "TRG   1536      6385        5552                    621                197   \n",
       "\n",
       "    nonprod_incomplete_vdj prod_mean_umi nonprod_mean_umi prod_perc  \\\n",
       "TRA                     32        7.5913          3.69634   64.9196   \n",
       "IGH                     24       43.2076          8.79588   69.5017   \n",
       "TRD                      0       10.6736          8.97008    13.337   \n",
       "IGL                     36       83.6279          19.1449   41.8246   \n",
       "TRB                     10       17.4724          7.61687   44.6356   \n",
       "IGK                    101        86.747          16.7565   53.1847   \n",
       "TRG                      4       5.04948           2.9408   19.3915   \n",
       "\n",
       "    nonprod_perc nonprod_noV_perc nonprod_premature_stop_perc  \\\n",
       "TRA      35.0804          35.0532                     39.8188   \n",
       "IGH      30.4983          77.4995                     13.1072   \n",
       "TRD       86.663          99.3121                    0.223964   \n",
       "IGL      58.1754          74.3882                     15.8706   \n",
       "TRB      55.3644          85.4292                     8.90801   \n",
       "IGK      46.8153          52.7916                      7.6484   \n",
       "TRG      80.6085          86.9538                     9.72592   \n",
       "\n",
       "    nonprod_frameshift_perc nonprod_others nonprod_others_perc  \n",
       "TRA                 24.7079             32            0.420113  \n",
       "IGH                 9.16651             24              0.2268  \n",
       "TRD                0.463926              0                   0  \n",
       "IGL                 9.45786             36            0.283264  \n",
       "TRB                 5.59697             12           0.0657823  \n",
       "IGK                 38.4599            106             1.10004  \n",
       "TRG                 3.08536             15            0.234926  "
      ]
     },
     "execution_count": 44,
     "metadata": {},
     "output_type": "execute_result"
    }
   ],
   "source": [
    "df"
   ]
  },
  {
   "cell_type": "code",
   "execution_count": 45,
   "id": "substantial-choir",
   "metadata": {},
   "outputs": [],
   "source": [
    "df['locus'] = df.index"
   ]
  },
  {
   "cell_type": "code",
   "execution_count": 46,
   "id": "alive-praise",
   "metadata": {},
   "outputs": [],
   "source": [
    "df1 = df.loc[['TRA','TRB','TRG','TRD','IGH','IGL','IGK'],['prod_perc','nonprod_perc','locus']]"
   ]
  },
  {
   "cell_type": "code",
   "execution_count": 47,
   "id": "overhead-syntax",
   "metadata": {},
   "outputs": [],
   "source": [
    "df1.columns = ['productive','nonproductive','locus']"
   ]
  },
  {
   "cell_type": "code",
   "execution_count": 48,
   "id": "solid-batch",
   "metadata": {},
   "outputs": [
    {
     "data": {
      "image/png": "[encoded data removed]",
      "text/plain": [
       "<Figure size 640x480 with 1 Axes>"
      ]
     },
     "metadata": {
      "image/png": {
       "height": 439,
       "width": 804
      }
     },
     "output_type": "display_data"
    }
   ],
   "source": [
    "sb.set_theme(style='ticks')\n",
    "fig, ax = plt.subplots(figsize=(4,3))\n",
    "legend = []\n",
    "\n",
    "for i in range(2)[::-1]:\n",
    "    bar = sb.barplot(x='locus',  y=np.sum(df1.iloc[:,0:i+1],axis=1), data=df1, color=sb.color_palette('colorblind')[i])\n",
    "    legend = legend+[mpatches.Patch(color=sb.color_palette()[i], label=df1.columns[i])]\n",
    "plt.xticks(fontsize=10,rotation=0,horizontalalignment='center')\n",
    "plt.yticks(fontsize=10)\n",
    "ax.set_xlabel('')\n",
    "ax.set_ylabel('proportion of contigs (%)', fontsize=10)\n",
    "#ax.set_title('Proportion of contigs that are productive or nonproductive',fontsize=10)\n",
    "\n",
    "# add legend\n",
    "ax.legend(handles=legend,loc='upper left',bbox_to_anchor=(1.01, 1),frameon=False, fontsize='x-small')\n",
    "\n",
    "#plt.savefig(fig_path+'prod_nonprod.pdf',bbox_inches='tight');\n",
    "plt.savefig(fig_path+'prod_nonprod_nothymus.pdf',bbox_inches='tight');"
   ]
  },
  {
   "cell_type": "code",
   "execution_count": 49,
   "id": "spatial-prerequisite",
   "metadata": {},
   "outputs": [],
   "source": [
    "df2 = df.loc[['TRA','TRB','TRG','TRD','IGH','IGL','IGK'],['nonprod_noV_perc','nonprod_premature_stop_perc','nonprod_frameshift_perc','nonprod_others_perc','locus']]"
   ]
  },
  {
   "cell_type": "code",
   "execution_count": 50,
   "id": "growing-influence",
   "metadata": {},
   "outputs": [
    {
     "data": {
      "image/png": "[encoded data removed]",
      "text/plain": [
       "<Figure size 640x480 with 1 Axes>"
      ]
     },
     "metadata": {
      "image/png": {
       "height": 439,
       "width": 871
      }
     },
     "output_type": "display_data"
    }
   ],
   "source": [
    "sb.set_theme(style='ticks')\n",
    "fig, ax = plt.subplots(figsize=(4,3))\n",
    "legend = []\n",
    "label = ['absent V gene','premature stop codon','frameshift','other cause']\n",
    "\n",
    "for i in range(4)[::-1]:\n",
    "    bar = sb.barplot(x='locus',  y=np.sum(df2.iloc[:,0:i+1],axis=1), data=df2, color=sb.color_palette('colorblind')[i])\n",
    "    legend = legend+[mpatches.Patch(color=sb.color_palette()[i], label=label[i])]\n",
    "plt.xticks(fontsize=10,rotation=0,horizontalalignment='center')\n",
    "plt.yticks(fontsize=10)\n",
    "ax.set_xlabel('', fontsize=8)\n",
    "ax.set_ylabel('proportion of nonproductive contigs (%)', fontsize=8)\n",
    "#ax.set_title('Causes of nonproductive contigs', fontsize=10)\n",
    "\n",
    "# add legend\n",
    "ax.legend(handles=legend,loc='upper left',bbox_to_anchor=(1.01, 1),frameon=False, fontsize='x-small')\n",
    "\n",
    "#plt.savefig(fig_path+'nonprod_cause.pdf',bbox_inches='tight');\n",
    "plt.savefig(fig_path+'nonprod_cause_nothymus.pdf',bbox_inches='tight');"
   ]
  },
  {
   "cell_type": "markdown",
   "id": "colored-ukraine",
   "metadata": {},
   "source": [
    "Remove thymus and show the same graphs i.e. they are not just from the developing T cells"
   ]
  },
  {
   "cell_type": "code",
   "execution_count": null,
   "id": "numerical-tactics",
   "metadata": {},
   "outputs": [],
   "source": []
  }
 ],
 "metadata": {
  "kernelspec": {
   "display_name": "skeleton",
   "language": "python",
   "name": "skeleton"
  },
  "language_info": {
   "codemirror_mode": {
    "name": "ipython",
    "version": 3
   },
   "file_extension": ".py",
   "mimetype": "text/x-python",
   "name": "python",
   "nbconvert_exporter": "python",
   "pygments_lexer": "ipython3",
   "version": "3.8.6"
  }
 },
 "nbformat": 4,
 "nbformat_minor": 5
}
